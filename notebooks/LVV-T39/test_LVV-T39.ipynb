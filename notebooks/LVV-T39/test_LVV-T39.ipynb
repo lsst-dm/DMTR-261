{
 "cells": [
  {
   "cell_type": "markdown",
   "metadata": {},
   "source": [
    "# Test notebook for Acceptance Test Campaign related to LSST Science Pipelines Release 20.0\n",
    "\n",
    "This test will be executed on the LSST Science Platform Notebook Aspect, initialized with Science Pipelines release `r20-0-0`."
   ]
  },
  {
   "cell_type": "markdown",
   "metadata": {},
   "source": [
    "### Test case LVV-T39: Verify implementation of Generate Photometric Zeropoint for Visit Image\n",
    "Verify that Processed Visit Image data products produced by the DRP and AP pipelines include the parameters of a model that relates the observed flux on the image to physical flux units."
   ]
  },
  {
   "cell_type": "code",
   "execution_count": null,
   "metadata": {},
   "outputs": [],
   "source": [
    "# Confirm that the version of the Science Pipelines is v20_0_0:\n",
    "! echo $HOSTNAME\n",
    "! eups list -s | grep lsst_distrib"
   ]
  },
  {
   "cell_type": "code",
   "execution_count": null,
   "metadata": {},
   "outputs": [],
   "source": [
    "import lsst.daf.persistence as dafPersist"
   ]
  },
  {
   "cell_type": "code",
   "execution_count": null,
   "metadata": {},
   "outputs": [],
   "source": [
    "import numpy as np\n",
    "from astropy.table import Table\n",
    "import random"
   ]
  },
  {
   "cell_type": "markdown",
   "metadata": {},
   "source": [
    "We will use HSC-RC2, as processed using `v20_0_0_rc1`, which is the pipelines version that was used to create `v20_0_0`."
   ]
  },
  {
   "cell_type": "code",
   "execution_count": null,
   "metadata": {},
   "outputs": [],
   "source": [
    "# The output repo is tagged with the Jira ticket number \"DM-25349\":\n",
    "rc2_repo = '/datasets/hsc/repo/rerun/RC/v20_0_0_rc1/DM-25349-sfm'\n",
    "# Initialize the butler repo:\n",
    "butler = dafPersist.Butler(rc2_repo)"
   ]
  },
  {
   "cell_type": "code",
   "execution_count": null,
   "metadata": {},
   "outputs": [],
   "source": [
    "# Select an arbitrary visit image:\n",
    "filters = ['HSC-G', 'HSC-R', 'HSC-I', 'HSC-Z', 'HSC-Y']\n",
    "visits = [11696, 1210, 1238, 1172, 328]\n",
    "# Coadd\n",
    "tract = 9813\n",
    "patch = '5,3'"
   ]
  },
  {
   "cell_type": "markdown",
   "metadata": {},
   "source": [
    "The following selects a random CCD for one visit each from the _grizy_ filters. Then it does the following:\n",
    " 1. Extract the instrumental flux at magnitude 0.0 (using photocalib.getInstFluxAtZeroMagnitude()).\n",
    " 2. Extract the instrumental flux of a 23rd magnitude star.\n",
    " 3. Convert the flux extracted in step 2 to a magnitude, and confirm that it returns 23.0.\n",
    " 4. Convert the flux extracted in step 1 to a magnitude, and confirm that it returns 0.0.\n",
    " 5. Convert the flux at magnitude zero to nanoJanskys, using photocalib.instFluxToNanojansky()."
   ]
  },
  {
   "cell_type": "code",
   "execution_count": null,
   "metadata": {},
   "outputs": [],
   "source": [
    "flux_zero = []\n",
    "flux_mag23 = []\n",
    "mag23_from_flux = []\n",
    "mag0_from_flux = []\n",
    "mag0_nJy = []\n",
    "\n",
    "for vis, filt in zip(visits, filters):\n",
    "    dataId = {'filter':filt, 'visit':vis, 'ccd':30}\n",
    "    photocalib = butler.get('calexp_photoCalib', dataId = dataId)\n",
    "    flux_zero.append(photocalib.getInstFluxAtZeroMagnitude())\n",
    "    flux_mag23.append(photocalib.magnitudeToInstFlux(23.0))\n",
    "    mag23_from_flux.append(photocalib.instFluxToMagnitude(photocalib.magnitudeToInstFlux(23.0)))\n",
    "    mag0_from_flux.append(photocalib.instFluxToMagnitude(photocalib.getInstFluxAtZeroMagnitude()))\n",
    "    mag0_nJy.append(photocalib.instFluxToNanojansky(photocalib.getInstFluxAtZeroMagnitude()))\n",
    "    \n",
    "tab = Table([filters, visits, flux_zero, flux_mag23, mag23_from_flux, mag0_from_flux, mag0_nJy],\n",
    "            names=('filter', 'visit', 'flux_zero', 'flux_mag23', 'mag23_from_flux', 'mag0_from_flux', 'mag0_nJy'))"
   ]
  },
  {
   "cell_type": "code",
   "execution_count": null,
   "metadata": {},
   "outputs": [],
   "source": [
    "tab"
   ]
  },
  {
   "cell_type": "code",
   "execution_count": null,
   "metadata": {},
   "outputs": [],
   "source": [
    "# Confirm that the instrumental flux at zero magnitude converts to\n",
    "#  the same value (in nanoJanskys) for all filters:\n",
    "\n",
    "cond = all(ele == mag0_nJy[0] for ele in mag0_nJy) \n",
    "if cond:\n",
    "    print('All fluxes are equal.')\n",
    "else:\n",
    "    print('Physical fluxes for zero mag stars are NOT equal.')"
   ]
  },
  {
   "cell_type": "code",
   "execution_count": null,
   "metadata": {},
   "outputs": [],
   "source": [
    "# Confirm that the instrumental flux for a 23rd magnitude star converts back to\n",
    "#  mag=23.0:\n",
    "\n",
    "cond = all(ele == 23.0 for ele in mag23_from_flux) \n",
    "if cond:\n",
    "    print('All magnitudes are equal to 23.')\n",
    "else:\n",
    "    print('Fluxes for 23rd mag stars do NOT convert to mag=23.')"
   ]
  },
  {
   "cell_type": "code",
   "execution_count": null,
   "metadata": {},
   "outputs": [],
   "source": [
    "# Confirm that the instrumental flux for a 23rd magnitude star converts back to\n",
    "#  mag=23.0:\n",
    "\n",
    "cond = all(ele == 0.0 for ele in mag0_from_flux) \n",
    "if cond:\n",
    "    print('All magnitudes are equal to 0.')\n",
    "else:\n",
    "    print('Fluxes for zero mag stars do NOT convert to mag=0.')"
   ]
  },
  {
   "cell_type": "markdown",
   "metadata": {},
   "source": [
    "### Select random sources, extract their magnitudes, and then confirm that they fall in a reasonable range (between roughly 12-32 mag for all objects)"
   ]
  },
  {
   "cell_type": "code",
   "execution_count": null,
   "metadata": {},
   "outputs": [],
   "source": [
    "print(dataId)\n",
    "src = butler.get('src', dataId = dataId)\n",
    "photocalib = butler.get('calexp_photoCalib', dataId = dataId)"
   ]
  },
  {
   "cell_type": "code",
   "execution_count": null,
   "metadata": {},
   "outputs": [],
   "source": [
    "random_mags = []\n",
    "\n",
    "for i in range(500):\n",
    "    rand_flux = random.choice(src['base_PsfFlux_instFlux'])\n",
    "    random_mags.append(photocalib.instFluxToMagnitude(rand_flux))"
   ]
  },
  {
   "cell_type": "code",
   "execution_count": null,
   "metadata": {},
   "outputs": [],
   "source": [
    "print('Brightest magnitude: ', np.nanmin(random_mags))\n",
    "print('Faintest magnitude: ', np.nanmax(random_mags))\n",
    "print('Median magnitude: ', np.nanmedian(random_mags))\n",
    "print('Magnitude at 5th percentile: ', np.nanpercentile(random_mags, 5.0))\n",
    "print('Magnitude at 95th percentile: ', np.nanpercentile(random_mags, 95.0))"
   ]
  },
  {
   "cell_type": "markdown",
   "metadata": {},
   "source": [
    "The magnitudes are in a reasonable range, so we will call this a passing result -- the visit images have a zeropoint associated with them that allows for fluxes to be converted to magnitudes."
   ]
  },
  {
   "cell_type": "markdown",
   "metadata": {},
   "source": [
    "### Now do the same exercise, but for difference images from AP processing.\n",
    "\n",
    "NOTE: we will only check a single image in this case."
   ]
  },
  {
   "cell_type": "code",
   "execution_count": null,
   "metadata": {},
   "outputs": [],
   "source": [
    "# Meredith pointed me to where she has run HSC data through diff imaging:\n",
    "diffim_repo = '/project/mrawls/cosmos/rerun/ap_pipe-g-202007'"
   ]
  },
  {
   "cell_type": "code",
   "execution_count": null,
   "metadata": {},
   "outputs": [],
   "source": [
    "butler_diffim = dafPersist.Butler(diffim_repo)"
   ]
  },
  {
   "cell_type": "code",
   "execution_count": null,
   "metadata": {},
   "outputs": [],
   "source": [
    "# Pick a visit/ccd at random:\n",
    "dataId_diffim = {'visit': 106078, 'ccd': 35}"
   ]
  },
  {
   "cell_type": "code",
   "execution_count": null,
   "metadata": {},
   "outputs": [],
   "source": [
    "photocalib_diffim = butler_diffim.get('deepDiff_differenceExp_photoCalib', dataId=dataId_diffim)\n",
    "diasrc = butler_diffim.get('deepDiff_diaSrc', **dataId_diffim)\n",
    "deepDiff_mags = photocalib_diffim.instFluxToMagnitude(diasrc, 'ip_diffim_forced_PsfFlux')\n",
    "\n",
    "flux_zero_tmp = photocalib.getInstFluxAtZeroMagnitude()\n",
    "flux_mag23_tmp = (photocalib.magnitudeToInstFlux(23.0))\n",
    "mag23_from_flux_tmp = (photocalib.instFluxToMagnitude(photocalib.magnitudeToInstFlux(23.0)))\n",
    "mag0_from_flux_tmp = (photocalib.instFluxToMagnitude(photocalib.getInstFluxAtZeroMagnitude()))\n",
    "mag0_nJy_tmp = (photocalib.instFluxToNanojansky(photocalib.getInstFluxAtZeroMagnitude()))\n",
    "\n",
    "print('flux_zero: ', flux_zero_tmp)\n",
    "print('flux_mag23: ', flux_mag23_tmp)\n",
    "print('mag23_from_flux: ', mag23_from_flux_tmp)\n",
    "print('mag0_from_flux: ', mag0_from_flux_tmp)\n",
    "print('mag0_nJy: ', mag0_nJy_tmp)"
   ]
  },
  {
   "cell_type": "code",
   "execution_count": null,
   "metadata": {},
   "outputs": [],
   "source": [
    "random_mags = []\n",
    "\n",
    "for i in range(500):\n",
    "    rand_flux = random.choice(diasrc['ip_diffim_forced_PsfFlux_instFlux'])\n",
    "    random_mags.append(photocalib_diffim.instFluxToMagnitude(rand_flux))"
   ]
  },
  {
   "cell_type": "code",
   "execution_count": null,
   "metadata": {},
   "outputs": [],
   "source": [
    "print('Brightest magnitude: ', np.nanmin(random_mags))\n",
    "print('Faintest magnitude: ', np.nanmax(random_mags))\n",
    "print('Median magnitude: ', np.nanmedian(random_mags))\n",
    "print('Magnitude at 5th percentile: ', np.nanpercentile(random_mags, 5.0))\n",
    "print('Magnitude at 95th percentile: ', np.nanpercentile(random_mags, 95.0))"
   ]
  },
  {
   "cell_type": "markdown",
   "metadata": {},
   "source": [
    "The test passes - the magnitudes for difference sources have reasonable values."
   ]
  },
  {
   "cell_type": "code",
   "execution_count": null,
   "metadata": {},
   "outputs": [],
   "source": []
  }
 ],
 "metadata": {
  "kernelspec": {
   "display_name": "LSST",
   "language": "python",
   "name": "lsst"
  },
  "language_info": {
   "codemirror_mode": {
    "name": "ipython",
    "version": 3
   },
   "file_extension": ".py",
   "mimetype": "text/x-python",
   "name": "python",
   "nbconvert_exporter": "python",
   "pygments_lexer": "ipython3",
   "version": "3.7.6"
  }
 },
 "nbformat": 4,
 "nbformat_minor": 4
}
