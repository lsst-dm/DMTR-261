{
 "cells": [
  {
   "cell_type": "markdown",
   "metadata": {},
   "source": [
    "# Test notebook for Acceptance Test Campaign related to LSST Science Pipelines Release 20.0.0\n",
    "\n",
    "This test will be executed on the LSST Science Platform Notebook Aspect, initialized with Science Pipelines release `r20-0-0`."
   ]
  },
  {
   "cell_type": "markdown",
   "metadata": {},
   "source": [
    "### Test case LVV-T40: Verify implementation of Generate WCS for Visit Images\n",
    "Verify that Processed Visit Images produced by the AP and DRP pipelines include FITS WCS accurate to specified **astrometricAccuracy** over the bounds of the image."
   ]
  },
  {
   "cell_type": "markdown",
   "metadata": {},
   "source": [
    "#### Discussion:\n",
    "For this test we interpret the requirement to mean that the _absolute_ astrometry (as compared to an external reference source of \"truth\" such as Gaia DR2) should meet the specified accuracy. Thus the verification will be done by comparing to Gaia DR2 (note, however, that the HSC-RC2 data were astrometrically and photometrically calibrated to PanSTARRS-1)."
   ]
  },
  {
   "cell_type": "code",
   "execution_count": null,
   "metadata": {},
   "outputs": [],
   "source": [
    "# Confirm that the version of the Science Pipelines is v20_0_0:\n",
    "! echo $HOSTNAME\n",
    "! eups list -s | grep lsst_distrib"
   ]
  },
  {
   "cell_type": "code",
   "execution_count": null,
   "metadata": {},
   "outputs": [],
   "source": [
    "import lsst.daf.persistence as dafPersist\n",
    "import lsst.geom as geom"
   ]
  },
  {
   "cell_type": "code",
   "execution_count": null,
   "metadata": {},
   "outputs": [],
   "source": [
    "import os\n",
    "import glob\n",
    "import numpy as np\n",
    "import pandas as pd\n",
    "import random\n",
    "\n",
    "import astropy.units as u\n",
    "from astropy.coordinates import SkyCoord\n",
    "from astroquery.gaia import Gaia\n",
    "from astropy.visualization import (MinMaxInterval, AsinhStretch, ZScaleInterval, LogStretch, LinearStretch,\n",
    "                                   ImageNormalize)"
   ]
  },
  {
   "cell_type": "code",
   "execution_count": null,
   "metadata": {},
   "outputs": [],
   "source": [
    "# Set plotting defaults\n",
    "%matplotlib inline\n",
    "import matplotlib.pyplot as plt\n",
    "zscale = ZScaleInterval()\n",
    "\n",
    "# Set up some plotting defaults:\n",
    "plt.rcParams.update({'figure.figsize' : (12, 8)})\n",
    "plt.rcParams.update({'font.size' : 24})\n",
    "plt.rcParams.update({'legend.fontsize': 16})\n",
    "plt.rcParams.update({'axes.linewidth' : 3})\n",
    "plt.rcParams.update({'axes.labelweight' : 3})\n",
    "plt.rcParams.update({'axes.titleweight' : 5})\n",
    "plt.rcParams.update({'ytick.major.width' : 3})\n",
    "plt.rcParams.update({'ytick.minor.width' : 2})\n",
    "plt.rcParams.update({'ytick.major.size' : 8})\n",
    "plt.rcParams.update({'ytick.minor.size' : 5})\n",
    "plt.rcParams.update({'xtick.major.size' : 8})\n",
    "plt.rcParams.update({'xtick.minor.size' : 5})\n",
    "plt.rcParams.update({'xtick.major.width' : 3})\n",
    "plt.rcParams.update({'xtick.minor.width' : 2})\n",
    "plt.rcParams.update({'xtick.direction' : 'in'})\n",
    "plt.rcParams.update({'ytick.direction' : 'in'})"
   ]
  },
  {
   "cell_type": "markdown",
   "metadata": {},
   "source": [
    "We will use HSC-RC2, as processed using `v20_0_0_rc1`, which is the pipelines version that was used to create `v20_0_0`."
   ]
  },
  {
   "cell_type": "code",
   "execution_count": null,
   "metadata": {},
   "outputs": [],
   "source": [
    "# The output repo is tagged with the Jira ticket number \"DM-25349\":\n",
    "rc2_repo = '/datasets/hsc/repo/rerun/RC/v20_0_0_rc1/DM-25349-sfm'"
   ]
  },
  {
   "cell_type": "code",
   "execution_count": null,
   "metadata": {},
   "outputs": [],
   "source": [
    "# Initialize the butler repo:\n",
    "butler = dafPersist.Butler(rc2_repo)\n",
    "\n",
    "# Make a glob of the files in the repo, so we can parse this to get tract/patch IDs:\n",
    "infiles = glob.glob(rc2_repo+'/*/*/corr/CORR*.fits')\n",
    "# /datasets/hsc/repo/rerun/RC/w_2019_46/DM-22223-sfm/01172/HSC-R/corr\n",
    "print(len(infiles))"
   ]
  },
  {
   "cell_type": "markdown",
   "metadata": {},
   "source": [
    "### Make arrays of the tract, patch numbers by parsing the filenames"
   ]
  },
  {
   "cell_type": "code",
   "execution_count": null,
   "metadata": {},
   "outputs": [],
   "source": [
    "filt_array = []\n",
    "ccd_array = []\n",
    "visit_array = []\n",
    "tract_array = []\n",
    "\n",
    "# Each line of \"infiles\" looks like this (infile[0]):\n",
    "# /datasets/hsc/repo/rerun/RC/w_2019_46/DM-22223-sfm/01172/HSC-R/corr/CORR-0030500-037.fits\n",
    "\n",
    "# Split on the '/', then parse the resulting array. Here's the result of infiles[0].split('/'):\n",
    "\n",
    "#['',\n",
    "# 'datasets',\n",
    "# 'hsc',\n",
    "# 'repo',\n",
    "# 'rerun',\n",
    "# 'RC',\n",
    "# 'w_2019_46',\n",
    "# 'DM-22223-sfm',\n",
    "# '01170',\n",
    "# 'HSC-Z',\n",
    "# 'corr',\n",
    "# 'CORR-0023226-028.fits']\n",
    "\n",
    "# So the tract number is third from the end, and patch is second from the end.\n",
    "\n",
    "for ii in range(0, len(infiles)):\n",
    "    parts = infiles[ii].split('/')\n",
    "    # Only keep ones with filters starting with 'HSC' (ditch the narrow-band filters):\n",
    "    if np.str.startswith(parts[-3], 'HSC'):\n",
    "        tract_array.append(int(parts[-4]))\n",
    "        filt_array.append(parts[-3])\n",
    "        # Split the file name to extract the visit number:\n",
    "        file_str = parts[-1]\n",
    "        file_str2 = file_str.split('.fits')\n",
    "        file_str3 = file_str2[0].split('-')\n",
    "        visit_array.append(int(file_str3[-2]))\n",
    "        ccd_array.append(int(file_str3[-1]))\n",
    "\n",
    "print('Found %i images'%(len(ccd_array)))\n",
    "        \n",
    "# Assemble in pandas data frame    \n",
    "data = {'tract': tract_array,\n",
    "        'filter': filt_array,\n",
    "        'ccd': ccd_array,\n",
    "        'visit': visit_array}\n",
    "df_filter_ccd_visit = pd.DataFrame(data=data)"
   ]
  },
  {
   "cell_type": "code",
   "execution_count": null,
   "metadata": {},
   "outputs": [],
   "source": [
    "#df_filter_ccd_visit"
   ]
  },
  {
   "cell_type": "code",
   "execution_count": null,
   "metadata": {},
   "outputs": [],
   "source": [
    "# Check the CCD numbers that are available:\n",
    "print(df_filter_ccd_visit.ccd.unique())"
   ]
  },
  {
   "cell_type": "markdown",
   "metadata": {},
   "source": [
    "It would take a prohibitively long time to check every CCD from every visit, so we will randomly select a subset to test. For now, the test is using `astroquery` to match to Gaia, but implementing a more direct match to the Gaia database on lsst-dev would likely streamline the process."
   ]
  },
  {
   "cell_type": "code",
   "execution_count": null,
   "metadata": {},
   "outputs": [],
   "source": [
    "haswcs_flags = []\n",
    "num_calib_astrom = []\n",
    "median_mag_astrom = []\n",
    "datarefs = []\n",
    "medianAstromOffsets = []\n",
    "minus1sigOffsets = []\n",
    "plus1sigOffsets = []\n",
    "numGaiaMatches = []\n",
    "\n",
    "# Select some visit/ccd combinations from these at random:\n",
    "numvisits = 1000 # 100 runs in a few min. 500 takes ~0.5 hr.\n",
    "visit_sel = df_filter_ccd_visit.sample(numvisits)\n",
    "\n",
    "# Astroquery issues lots of warnings, so let's filter them out:\n",
    "import warnings\n",
    "warnings.filterwarnings(\"ignore\")\n",
    "\n",
    "for row, vis in visit_sel.iterrows():\n",
    "    # print(vis)\n",
    "    dataref = {'tract':vis['tract'], 'filter':vis['filter'], 'visit':vis['visit'], 'ccd':vis['ccd']}\n",
    "    # Sometimes CCDs fail, so test whether the dataset exists before grabbing it:\n",
    "    if butler.datasetExists('calexp', dataId = dataref):\n",
    "        calexp = butler.get('calexp', dataId = dataref)\n",
    "        haswcs_flags.append(butler.get('calexp', dataId = dataref).hasWcs())\n",
    "\n",
    "        # Check how many objects were used to calibrate the astrometry:\n",
    "        src = butler.get('src', dataId = dataref)\n",
    "        astrom_selection = np.where(src['calib_astrometry_used'] == True)\n",
    "        num_calib_astrom.append(np.size(astrom_selection))\n",
    "        calexp_calib = butler.get('calexp_photoCalib', dataId=dataref)\n",
    "        src_mag = calexp_calib.instFluxToMagnitude(src, 'base_PsfFlux')\n",
    "\n",
    "        median_mag_astrom.append(np.median(src_mag[astrom_selection,0]))\n",
    "\n",
    "        # Extract the WCS+calexp and match to Gaia:\n",
    "        wcs = calexp.getWcs()\n",
    "        center = wcs.pixelToSky(calexp.getX0()+calexp.getWidth()/2.0, calexp.getY0()+calexp.getHeight()/2.0)\n",
    "        pscale = wcs.getPixelScale()\n",
    "        width = calexp.getWidth()*pscale.asDegrees()\n",
    "        height = calexp.getHeight()*pscale.asDegrees()\n",
    "#        wcs = butler.get('calexp_wcs', dataId = dataref)\n",
    "        cen = SkyCoord(center.getRa().asDegrees()*u.degree, center.getDec().asDegrees()*u.degree)\n",
    "        width = u.Quantity(width, u.deg)\n",
    "        height = u.Quantity(height, u.deg)\n",
    "\n",
    "        # Start from XY, then use the WCS to convert to RA, Dec:\n",
    "        xxx = src.getX()\n",
    "        yyy = src.getY()\n",
    "        radec = [wcs.pixelToSky(xxx[i], yyy[i]) for i in range(len(xxx))]\n",
    "        radec_arr = np.array([(coo.getRa().asDegrees(), coo.getDec().asDegrees()) for coo in radec])\n",
    "\n",
    "        gaia_mch = Gaia.query_object_async(coordinate=cen, width=width, height=height)\n",
    "        # gaia_mch.pprint()\n",
    "        sc_src = SkyCoord(radec_arr[:,0]*u.deg, radec_arr[:,1]*u.deg)\n",
    "#        sc_src = SkyCoord(src['coord_ra']*u.rad, src['coord_dec']*u.rad)\n",
    "        sc_gaia = SkyCoord(gaia_mch['ra'], gaia_mch['dec'])\n",
    "        src_match = sc_src.match_to_catalog_sky(sc_gaia)\n",
    "        sep_match = src_match[1]\n",
    "        \n",
    "        gaia_gmag = gaia_mch['phot_g_mean_mag']\n",
    "        # gaia_bpmag = gaia_mch['phot_bp_mean_mag']\n",
    "        # gaia_rpmag = gaia_mch['phot_rp_mean_mag']\n",
    "        \n",
    "        # Apply data quality cuts:\n",
    "        # is_primary = (src['detect_isPrimary'] == True)\n",
    "        ptsource = (src['base_ClassificationExtendedness_flag'] == False)\n",
    "        deblend = (src['deblend_nChild'] == 0)\n",
    "        notsky = (src['sky_source'] == False)\n",
    "\n",
    "        okmch = (sep_match.arcsec < 0.5)\n",
    "        matchsep = sep_match[okmch & ptsource & deblend]\n",
    "        \n",
    "        # Require the matches to have similar magnitudes:\n",
    "        magdiff = src_mag[okmch & ptsource & deblend][:,0]-gaia_gmag[src_match[0][okmch & ptsource & deblend]]\n",
    "        \n",
    "        okmagdiff = (np.abs(magdiff - np.median(magdiff)) < 1.0)\n",
    "        okmatchsep = matchsep[okmagdiff]\n",
    "        offset_marcsec = np.array(okmatchsep.marcsec)\n",
    "        \n",
    "        medianOffset = np.median(offset_marcsec)\n",
    "        medianAstromOffsets.append(medianOffset)\n",
    "        numGaiaMatches.append(np.size(okmatchsep))\n",
    "        q16, q84 = np.percentile(offset_marcsec, [16, 84])\n",
    "        minus1sigOffsets.append(q16)\n",
    "        plus1sigOffsets.append(q84)\n",
    "\n",
    "        # Save the datarefs for later:\n",
    "        datarefs.append(dataref)\n"
   ]
  },
  {
   "cell_type": "code",
   "execution_count": null,
   "metadata": {},
   "outputs": [],
   "source": [
    "# Convert the outputs of the previous cell to numpy arrays:\n",
    "numGaiaMatches = np.array(numGaiaMatches)\n",
    "medianAstromOffsets = np.array(medianAstromOffsets)\n",
    "minus1sigOffsets = np.array(minus1sigOffsets)\n",
    "plus1sigOffsets = np.array(plus1sigOffsets)\n",
    "num_calib_astrom = np.array(num_calib_astrom)\n",
    "median_mag_astrom = np.array(median_mag_astrom)\n",
    "\n",
    "# Keep only the CCDs with at least one Gaia match:\n",
    "okmch = np.where(numGaiaMatches >= 1)\n",
    "\n",
    "nGaiaMatches = numGaiaMatches[okmch[0]]\n",
    "medAstromOffsets = medianAstromOffsets[okmch[0]]\n",
    "minus1sig = minus1sigOffsets[okmch[0]]\n",
    "plus1sig = plus1sigOffsets[okmch[0]]\n",
    "n_calib_astrom = num_calib_astrom[okmch[0]]\n",
    "med_mag_astrom = median_mag_astrom[okmch[0]]"
   ]
  },
  {
   "cell_type": "markdown",
   "metadata": {},
   "source": [
    "#### Did all of the CCDs use more than `astrometricMinStandards` = 5 standards?"
   ]
  },
  {
   "cell_type": "code",
   "execution_count": null,
   "metadata": {},
   "outputs": [],
   "source": [
    "# Calculate the fraction of fields that used > 5 standards for astrometric calibration:\n",
    "wcsFlagsPercent = (np.size(np.where(haswcs_flags))/np.size(haswcs_flags))*100.0*u.percent\n",
    "print('Percentage of fields with > astrometricMinStandards=5: ', wcsFlagsPercent,' -- ',wcsFlagsPercent == 100.0*u.percent)"
   ]
  },
  {
   "cell_type": "markdown",
   "metadata": {},
   "source": [
    "#### Fraction of CCDs meeting the `astrometricAccuracy` threshold:"
   ]
  },
  {
   "cell_type": "code",
   "execution_count": null,
   "metadata": {},
   "outputs": [],
   "source": [
    "# Calculate the fraction of CCDs that meet the requirement:\n",
    "astrometricAccuracy = 50.0 # 50 mas is the threshold in the requirement\n",
    "\n",
    "# Keep only CCDs that have at least 10 matches to Gaia sources:\n",
    "keep_astrom = (nGaiaMatches > 10)\n",
    "\n",
    "astromMeetsThreshPercent = (np.size(np.where(medAstromOffsets[keep_astrom] < astrometricAccuracy))/np.size(medAstromOffsets[keep_astrom]))*100.0*u.percent\n",
    "print('Percentage of fields meeting the threshold: ', astromMeetsThreshPercent,' -- ',astromMeetsThreshPercent == 100.0*u.percent)"
   ]
  },
  {
   "cell_type": "markdown",
   "metadata": {},
   "source": [
    "### Discussion, figures:\n",
    "For any random selection of CCDs on which we calculate this, a small fraction do not meet the threshold. This may have more to do with the matching to Gaia than the accuracy of the WCS. Let's explore..."
   ]
  },
  {
   "cell_type": "markdown",
   "metadata": {},
   "source": [
    "#### Compare the median value of the astrometric residuals (vs. Gaia) to the number of Gaia sources matched:"
   ]
  },
  {
   "cell_type": "code",
   "execution_count": null,
   "metadata": {},
   "outputs": [],
   "source": [
    "filter_arr = []\n",
    "for d in datarefs:\n",
    "    filter_arr.append(d['filter'])\n",
    "    \n",
    "filter_arr = np.array(filter_arr)"
   ]
  },
  {
   "cell_type": "code",
   "execution_count": null,
   "metadata": {},
   "outputs": [],
   "source": [
    "# Select the entries from each filter:\n",
    "ufilt = (filter_arr == 'HSC-U')\n",
    "gfilt = (filter_arr == 'HSC-G')\n",
    "rfilt = (filter_arr == 'HSC-R')\n",
    "ifilt = (filter_arr == 'HSC-I')\n",
    "zfilt = (filter_arr == 'HSC-Z')\n",
    "yfilt = (filter_arr == 'HSC-Y')"
   ]
  },
  {
   "cell_type": "code",
   "execution_count": null,
   "metadata": {},
   "outputs": [],
   "source": [
    "#print(medianAstromOffsets, numGaiaMatches)\n",
    "if np.sum(ufilt) > 0:\n",
    "    plt.plot(nGaiaMatches[ufilt], medAstromOffsets[ufilt], '.', ms=15, color='Teal', label='__no label__')\n",
    "    plt.errorbar(nGaiaMatches[ufilt], medAstromOffsets[ufilt], yerr=[medAstromOffsets[ufilt]-minus1sig[ufilt], plus1sig[ufilt]-medAstromOffsets[ufilt]],\n",
    "                 fmt='o', capsize=6.0, elinewidth=2, markersize=6, color='Teal', label='HSC-U')\n",
    "if np.sum(gfilt) > 0:\n",
    "    plt.plot(nGaiaMatches[gfilt], medAstromOffsets[gfilt], '.', ms=15, color='Green', label='__no label__')\n",
    "    plt.errorbar(nGaiaMatches[gfilt], medAstromOffsets[gfilt], yerr=[medAstromOffsets[gfilt]-minus1sig[gfilt], plus1sig[gfilt]-medAstromOffsets[gfilt]],\n",
    "                 fmt='o', capsize=6.0, elinewidth=2, markersize=6, color='Green', label='HSC-G')\n",
    "if np.sum(rfilt) > 0:\n",
    "    plt.plot(nGaiaMatches[rfilt], medAstromOffsets[rfilt], '.', ms=15, color='Goldenrod', label='__no label__')\n",
    "    plt.errorbar(nGaiaMatches[rfilt], medAstromOffsets[rfilt], yerr=[medAstromOffsets[rfilt]-minus1sig[rfilt], plus1sig[rfilt]-medAstromOffsets[rfilt]],\n",
    "                 fmt='o', capsize=6.0, elinewidth=2, markersize=6, color='Goldenrod', label='HSC-R')\n",
    "if np.sum(ifilt) > 0:\n",
    "    plt.plot(nGaiaMatches[ifilt], medAstromOffsets[ifilt], '.', ms=15, color='Red', label='__no label__')\n",
    "    plt.errorbar(nGaiaMatches[ifilt], medAstromOffsets[ifilt], yerr=[medAstromOffsets[ifilt]-minus1sig[ifilt], plus1sig[ifilt]-medAstromOffsets[ifilt]],\n",
    "                 fmt='o', capsize=6.0, elinewidth=2, markersize=6, color='Red', label='HSC-I')\n",
    "if np.sum(zfilt) > 0:\n",
    "    plt.plot(nGaiaMatches[zfilt], medAstromOffsets[zfilt], '.', ms=15, color='Sienna', label='__no label__')\n",
    "    plt.errorbar(nGaiaMatches[zfilt], medAstromOffsets[zfilt], yerr=[medAstromOffsets[zfilt]-minus1sig[zfilt], plus1sig[zfilt]-medAstromOffsets[zfilt]],\n",
    "                 fmt='o', capsize=6.0, elinewidth=2, markersize=6, color='Sienna', label='HSC-Z')\n",
    "if np.sum(yfilt) > 0:\n",
    "    plt.plot(nGaiaMatches[yfilt], medAstromOffsets[yfilt], '.', ms=15, color='Black', label='__no label__')\n",
    "    plt.errorbar(nGaiaMatches[yfilt], medAstromOffsets[yfilt], yerr=[medAstromOffsets[yfilt]-minus1sig[yfilt], plus1sig[yfilt]-medAstromOffsets[yfilt]],\n",
    "                 fmt='o', capsize=6.0, elinewidth=2, markersize=6, color='Black', label='HSC-Y')\n",
    "#plt.plot(nGaiaMatches, medAstromOffsets, 'k.', ms=15)\n",
    "plt.xlabel('number of Gaia matches')\n",
    "plt.ylabel('median astrometric residual (mas)')\n",
    "plt.hlines(astrometricAccuracy, 0, 100, linestyle='dashed', label='Requirement')\n",
    "med_offset = np.median(medAstromOffsets)\n",
    "plt.hlines(med_offset, 0, 100, linestyle='dotted', linewidth=3, color='red', label='median: '+f'{med_offset:6.2F} mas')\n",
    "plt.fill_betweenx([0, 1000], 0, 10, facecolor='gray')\n",
    "plt.xlim(0,np.max(nGaiaMatches)*1.1)\n",
    "if np.max(medAstromOffsets) > astrometricAccuracy:\n",
    "    maxy = np.max(medAstromOffsets)*1.1\n",
    "else:\n",
    "    maxy = 1.3*astrometricAccuracy\n",
    "plt.ylim(0, maxy)\n",
    "plt.legend()\n",
    "plt.minorticks_on()\n",
    "plt.show()"
   ]
  },
  {
   "cell_type": "markdown",
   "metadata": {},
   "source": [
    "Most of the objects with high residuals are those that have few Gaia matches. Do they also have few astrometric calibrators?"
   ]
  },
  {
   "cell_type": "code",
   "execution_count": null,
   "metadata": {},
   "outputs": [],
   "source": [
    "if np.sum(ufilt) > 0:\n",
    "    plt.plot(n_calib_astrom[ufilt], medAstromOffsets[ufilt], '.', ms=15, color='Teal', label='HSC-U')\n",
    "if np.sum(gfilt) > 0:\n",
    "    plt.plot(n_calib_astrom[gfilt], medAstromOffsets[gfilt], '.', ms=15, color='Green', label='HSC-G')\n",
    "if np.sum(rfilt) > 0:\n",
    "    plt.plot(n_calib_astrom[rfilt], medAstromOffsets[rfilt], '.', ms=15, color='Goldenrod', label='HSC-R')\n",
    "if np.sum(ifilt) > 0:\n",
    "    plt.plot(n_calib_astrom[ifilt], medAstromOffsets[ifilt], '.', ms=15, color='Red', label='HSC-I')\n",
    "if np.sum(zfilt) > 0:\n",
    "    plt.plot(n_calib_astrom[zfilt], medAstromOffsets[zfilt], '.', ms=15, color='Sienna', label='HSC-Z')\n",
    "if np.sum(yfilt) > 0:\n",
    "    plt.plot(n_calib_astrom[yfilt], medAstromOffsets[yfilt], '.', ms=15, color='Black', label='HSC-Y')\n",
    "#plt.plot(n_calib_astrom, medAstromOffsets, 'k.', ms=15)\n",
    "plt.xlabel('number of astrometric calibrators')\n",
    "plt.ylabel('median astrometric residual (mas)')\n",
    "plt.hlines(astrometricAccuracy, 0, 1000, linestyle='dashed', label='Requirement')\n",
    "plt.hlines(med_offset, 0, 1000, linestyle='dotted', linewidth=3, color='red', label='median: '+f'{med_offset:6.2F} mas')\n",
    "plt.xlim(0,np.max(n_calib_astrom)*1.1)\n",
    "if np.max(medAstromOffsets) > astrometricAccuracy:\n",
    "    maxy = np.max(medAstromOffsets)*1.1\n",
    "else:\n",
    "    maxy = 1.3*astrometricAccuracy\n",
    "plt.ylim(0, maxy)\n",
    "plt.legend()\n",
    "plt.minorticks_on()\n",
    "plt.show()"
   ]
  },
  {
   "cell_type": "markdown",
   "metadata": {},
   "source": [
    "In fact, it seems that many of the fields with large residuals have large numbers of calibrators (and _all_ have > 50).\n",
    "\n",
    "Furthermore, there seem to be too few Gaia matches per CCD to be able to split them into smaller spatial regions. "
   ]
  },
  {
   "cell_type": "markdown",
   "metadata": {},
   "source": [
    "#### What is the median magnitude of sources that contributed to the astrometric solution?"
   ]
  },
  {
   "cell_type": "code",
   "execution_count": null,
   "metadata": {},
   "outputs": [],
   "source": [
    "# Just to try to understand the previous two plots, check the median mag of astrometric calibrators:\n",
    "if np.sum(ufilt) > 0:\n",
    "    plt.plot(med_mag_astrom[ufilt], medAstromOffsets[ufilt], '.', ms=15, color='Teal', label='HSC-U')\n",
    "if np.sum(gfilt) > 0:\n",
    "    plt.plot(med_mag_astrom[gfilt], medAstromOffsets[gfilt], '.', ms=15, color='Green', label='HSC-G')\n",
    "if np.sum(rfilt) > 0:\n",
    "    plt.plot(med_mag_astrom[rfilt], medAstromOffsets[rfilt], '.', ms=15, color='Goldenrod', label='HSC-R')\n",
    "if np.sum(ifilt) > 0:\n",
    "    plt.plot(med_mag_astrom[ifilt], medAstromOffsets[ifilt], '.', ms=15, color='Red', label='HSC-I')\n",
    "if np.sum(zfilt) > 0:\n",
    "    plt.plot(med_mag_astrom[zfilt], medAstromOffsets[zfilt], '.', ms=15, color='Sienna', label='HSC-Z')\n",
    "if np.sum(yfilt) > 0:\n",
    "    plt.plot(med_mag_astrom[yfilt], medAstromOffsets[yfilt], '.', ms=15, color='Black', label='HSC-Y')\n",
    "#plt.plot(med_mag_astrom, medAstromOffsets, 'k.', ms=15)\n",
    "plt.xlabel('median mag of astrometric calibrators')\n",
    "plt.ylabel('median astrometric residual (mas)')\n",
    "plt.hlines(astrometricAccuracy, 0, 1000, linestyle='dashed', label='Requirement')\n",
    "plt.hlines(med_offset, 0, 100, linestyle='dotted', linewidth=3, color='red', label='median: '+f'{med_offset:6.2F} mas')\n",
    "plt.xlim(np.min(med_mag_astrom)*0.95,np.max(med_mag_astrom)*1.05)\n",
    "plt.ylim(0,np.max(medAstromOffsets)*1.1)\n",
    "plt.legend()\n",
    "plt.minorticks_on()\n",
    "plt.show()"
   ]
  },
  {
   "cell_type": "markdown",
   "metadata": {},
   "source": [
    "It seems that many of the fields with large astrometric residuals when compared to Gaia were calibrated using faint stars. These may be deep exposures, so that many Gaia objects saturate, or some other similar effect. "
   ]
  },
  {
   "cell_type": "markdown",
   "metadata": {},
   "source": [
    "Because a small fraction of fields do not meet the criterion, the test for LVV-T40 technically does not pass. Given that ~98% of the selected CCDs met the astrometric accuracy criterion, and that the small number not passing may be due to a lack of Gaia reference catalog objects, or data quality issues with the input images (i.e., _not_ due to a deficiency in DM algorithms), we consider the result of this test __\"Pass.\"__ However, we recommend that the required fraction of images meeting the astrometric accuracy criterion should be clarified, and that the data quality selection needed to test this requirement should be better defined."
   ]
  },
  {
   "cell_type": "code",
   "execution_count": null,
   "metadata": {},
   "outputs": [],
   "source": []
  }
 ],
 "metadata": {
  "kernelspec": {
   "display_name": "LSST",
   "language": "python",
   "name": "lsst"
  },
  "language_info": {
   "codemirror_mode": {
    "name": "ipython",
    "version": 3
   },
   "file_extension": ".py",
   "mimetype": "text/x-python",
   "name": "python",
   "nbconvert_exporter": "python",
   "pygments_lexer": "ipython3",
   "version": "3.7.6"
  }
 },
 "nbformat": 4,
 "nbformat_minor": 4
}
