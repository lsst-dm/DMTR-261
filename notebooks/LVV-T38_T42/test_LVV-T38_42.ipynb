{
 "cells": [
  {
   "cell_type": "markdown",
   "metadata": {},
   "source": [
    "# Test notebook for Acceptance Test Campaign related to LSST Science Pipelines Release 20.0\n",
    "\n",
    "This test will be executed on the LSST Science Platform Notebook Aspect, initialized with Science Pipelines release `r20-0-0`."
   ]
  },
  {
   "cell_type": "code",
   "execution_count": null,
   "metadata": {},
   "outputs": [],
   "source": [
    "# Extract an image of the PSF at a random point and display it:\n",
    "psf = calexp.getPsf()\n",
    "\n",
    "xsize = calexp.getDimensions().getX()\n",
    "ysize = calexp.getDimensions().getY()\n",
    "# Select a random point on the image and extract the PSF at that point:\n",
    "xpt = random.random()*xsize\n",
    "ypt = random.random()*ysize\n",
    "psfimage = psf.computeImage(geom.PointD(xpt, ypt))\n",
    "img = psfimage.array\n",
    "\n",
    "# Create an ImageNormalize object\n",
    "norm = ImageNormalize(img, interval=MinMaxInterval(),\n",
    "                      stretch=LogStretch())\n",
    "\n",
    "plt.imshow(img, norm=norm, origin='lower')\n",
    "plt.xlabel('x (pix)')\n",
    "plt.ylabel('y (pix)')\n",
    "plt.show()\n"
   ]
  },
  {
   "cell_type": "markdown",
   "metadata": {},
   "source": [
    "### Test case LVV-T38: Verify implementation of Processed Visit Images\n",
    "Verify that the DMS\n",
    "1. Successfully produces Processed Visit Images, where the instrument signature has been removed.\n",
    "2. Successfully combines images obtained during a standard visit.\n",
    "\n",
    "### Test case LVV-T42: Verify implementation of Processed Visit Image Content\n",
    "Verify that Processed Visit Images produced by the DRP and AP pipelines include the observed data, a mask array, a variance array, a PSF model, and a WCS model."
   ]
  },
  {
   "cell_type": "code",
   "execution_count": null,
   "metadata": {},
   "outputs": [],
   "source": [
    "# Confirm that the version of the Science Pipelines is v20_0_0:\n",
    "! echo $HOSTNAME\n",
    "! eups list -s | grep lsst_distrib"
   ]
  },
  {
   "cell_type": "code",
   "execution_count": null,
   "metadata": {},
   "outputs": [],
   "source": [
    "import lsst.daf.persistence as dafPersist\n",
    "# import lsst.daf.butler as dafButler ### Gen 3 Butler\n",
    "import numpy as np\n",
    "import random\n",
    "%matplotlib inline\n",
    "import matplotlib.pyplot as plt\n",
    "from astropy.visualization import (MinMaxInterval, AsinhStretch, ZScaleInterval, LogStretch, LinearStretch,\n",
    "                                   ImageNormalize)\n",
    "import lsst.daf.persistence as dafPersist ### Gen 2 Butler (dafPersist.Butler)\n",
    "import lsst.afw.display as afwDisplay\n",
    "import lsst.geom as geom"
   ]
  },
  {
   "cell_type": "code",
   "execution_count": null,
   "metadata": {},
   "outputs": [],
   "source": [
    "zscale = ZScaleInterval()\n",
    "\n",
    "# Set up some plotting defaults:\n",
    "plt.rcParams.update({'figure.figsize' : (12, 8)})\n",
    "plt.rcParams.update({'font.size' : 14})\n",
    "plt.rcParams.update({'axes.linewidth' : 3})\n",
    "plt.rcParams.update({'axes.labelweight' : 3})\n",
    "plt.rcParams.update({'axes.titleweight' : 3})\n",
    "plt.rcParams.update({'ytick.major.width' : 3})\n",
    "plt.rcParams.update({'ytick.minor.width' : 2})\n",
    "plt.rcParams.update({'ytick.major.size' : 8})\n",
    "plt.rcParams.update({'ytick.minor.size' : 5})\n",
    "plt.rcParams.update({'xtick.major.size' : 8})\n",
    "plt.rcParams.update({'xtick.minor.size' : 5})\n",
    "plt.rcParams.update({'xtick.major.width' : 3})\n",
    "plt.rcParams.update({'xtick.minor.width' : 2})\n",
    "plt.rcParams.update({'xtick.direction' : 'in'})\n",
    "plt.rcParams.update({'ytick.direction' : 'in'})"
   ]
  },
  {
   "cell_type": "markdown",
   "metadata": {},
   "source": [
    "### Load and examine some DECam difference images from HiTS"
   ]
  },
  {
   "cell_type": "code",
   "execution_count": null,
   "metadata": {},
   "outputs": [],
   "source": [
    "# Meredith pointed me to where she regularly re-runs HiTS data through diff imaging:\n",
    "diffim_repo = '/project/mrawls/hits2015/rerun/cw_2020_06'"
   ]
  },
  {
   "cell_type": "code",
   "execution_count": null,
   "metadata": {},
   "outputs": [],
   "source": [
    "butler = dafPersist.Butler(diffim_repo)"
   ]
  },
  {
   "cell_type": "code",
   "execution_count": null,
   "metadata": {},
   "outputs": [],
   "source": [
    "# Pick a visit/ccd at random:\n",
    "dataId = {'visit': 411406, 'ccd': 15}\n",
    "\n",
    "# Load the calexp image\n",
    "calexp = butler.get('calexp', **dataId)\n",
    "\n",
    "# Load the raw image\n",
    "raw = butler.get('raw', **dataId)"
   ]
  },
  {
   "cell_type": "code",
   "execution_count": null,
   "metadata": {},
   "outputs": [],
   "source": [
    "# Extract the images and normalize them:\n",
    "im = calexp.image.array\n",
    "\n",
    "# Create an ImageNormalize object\n",
    "norm = ImageNormalize(im, interval=ZScaleInterval(),\n",
    "                      stretch=LinearStretch())\n",
    "\n",
    "rawim = raw.image.array\n",
    "\n",
    "# Create an ImageNormalize object\n",
    "rawnorm = ImageNormalize(rawim, interval=ZScaleInterval(),\n",
    "                         stretch=LinearStretch())"
   ]
  },
  {
   "cell_type": "markdown",
   "metadata": {},
   "source": [
    "### Compare the original image and the processed visit image (aka \"calexp\")"
   ]
  },
  {
   "cell_type": "code",
   "execution_count": null,
   "metadata": {},
   "outputs": [],
   "source": [
    "ncols = 3\n",
    "nrows = 1\n",
    "f, ax = plt.subplots(nrows=int(np.ceil(nrows)), ncols=int(ncols), sharey=True, sharex=True, figsize=(12,10))\n",
    "axs = ax.flatten()\n",
    "\n",
    "axs[0].imshow(rawim, norm=rawnorm, origin='lower')\n",
    "axs[0].set_title('raw image')\n",
    "axs[1].imshow(im, norm=rawnorm, origin='lower')\n",
    "axs[1].set_title('calexp with raw normalization')\n",
    "axs[2].imshow(im, norm=norm, origin='lower')\n",
    "axs[2].set_title('calexp')\n",
    "plt.show()"
   ]
  },
  {
   "cell_type": "markdown",
   "metadata": {},
   "source": [
    "### Confirm that the processed visit image (aka \"calexp\") contains mask and variance planes"
   ]
  },
  {
   "cell_type": "code",
   "execution_count": null,
   "metadata": {},
   "outputs": [],
   "source": [
    "# Extract the images and normalize them:\n",
    "mask = calexp.maskedImage\n",
    "\n",
    "# Create an ImageNormalize object\n",
    "#masknorm = ImageNormalize(mask, interval=ZScaleInterval(),\n",
    "#                          stretch=LinearStretch())\n",
    "\n",
    "# Extract the images and normalize them:\n",
    "variance = calexp.variance.array\n",
    "\n",
    "# Create an ImageNormalize object\n",
    "variancenorm = ImageNormalize(variance, interval=ZScaleInterval(),\n",
    "                              stretch=LinearStretch())\n"
   ]
  },
  {
   "cell_type": "markdown",
   "metadata": {},
   "source": [
    "#### Display the variance plane:"
   ]
  },
  {
   "cell_type": "code",
   "execution_count": null,
   "metadata": {},
   "outputs": [],
   "source": [
    "plt.imshow(variance, norm=variancenorm, origin='lower')\n",
    "plt.colorbar()\n",
    "plt.show()"
   ]
  },
  {
   "cell_type": "markdown",
   "metadata": {},
   "source": [
    "#### Display the masked image:"
   ]
  },
  {
   "cell_type": "code",
   "execution_count": null,
   "metadata": {},
   "outputs": [],
   "source": [
    "afwDisplay.setDefaultBackend('matplotlib') \n",
    "plt.figure()\n",
    "afw_display = afwDisplay.Display()\n",
    "afw_display.scale('linear', 'zscale')\n",
    "afw_display.mtv(mask)\n",
    "plt.xticks([])\n",
    "plt.yticks([])\n",
    "plt.show()"
   ]
  },
  {
   "cell_type": "code",
   "execution_count": null,
   "metadata": {},
   "outputs": [],
   "source": [
    "# The MaskedImage is overplotting the values of the mask plane. \n",
    "# Extract the mapping between mask color and mask bit directly from the mask object:\n",
    "\n",
    "for maskName, maskBit in mask.mask.getMaskPlaneDict().items():\n",
    "    print('{}: {}'.format(afw_display.getMaskPlaneColor(maskName),maskName))\n"
   ]
  },
  {
   "cell_type": "markdown",
   "metadata": {},
   "source": [
    "The masked image looks good and well-formed, so this portion of the test passes."
   ]
  },
  {
   "cell_type": "markdown",
   "metadata": {},
   "source": [
    "#### Confirm that the WCS is present with the calexp"
   ]
  },
  {
   "cell_type": "code",
   "execution_count": null,
   "metadata": {},
   "outputs": [],
   "source": [
    "# First, check the result of the \"hasWcs\" method:\n",
    "calexp.hasWcs()"
   ]
  },
  {
   "cell_type": "code",
   "execution_count": null,
   "metadata": {},
   "outputs": [],
   "source": [
    "# OK, the Butler claims that the calexp has a WCS. Now check the WCS.\n",
    "\n",
    "# Load the source catalog\n",
    "src = butler.get('src', dataId = dataId)\n",
    "\n",
    "# Extract the WCS+calexp and match to Gaia:\n",
    "wcs = calexp.getWcs()\n",
    "\n",
    "# Start from XY, then use the WCS to convert to RA, Dec:\n",
    "xxx = src.getX()\n",
    "yyy = src.getY()\n",
    "radec = [wcs.pixelToSky(xxx[i], yyy[i]) for i in range(len(xxx))]"
   ]
  },
  {
   "cell_type": "code",
   "execution_count": null,
   "metadata": {},
   "outputs": [],
   "source": [
    "plt.rcParams.update({'figure.figsize' : (15, 8)})\n",
    "\n",
    "plt.subplot(121)\n",
    "plt.plot(xxx, yyy, 'k.', alpha=0.1)\n",
    "plt.xlabel('X (pix)')\n",
    "plt.ylabel('Y (pix)')\n",
    "\n",
    "plt.subplot(122)\n",
    "for r in radec:\n",
    "    plt.plot(r.getRa(), r.getDec(), 'k.', alpha=0.1)\n",
    "\n",
    "plt.xlabel('RA (rad)')\n",
    "plt.ylabel('Dec (rad)')\n",
    "plt.show()"
   ]
  },
  {
   "cell_type": "markdown",
   "metadata": {},
   "source": [
    "The positions seem to have reasonably converted from (X, Y) to (RA, Dec). We thus consider this portion of the test to have passed."
   ]
  },
  {
   "cell_type": "markdown",
   "metadata": {},
   "source": [
    "#### Confirm that the PSF is available and can be extracted"
   ]
  },
  {
   "cell_type": "code",
   "execution_count": null,
   "metadata": {},
   "outputs": [],
   "source": [
    "calexp.hasPsf()"
   ]
  },
  {
   "cell_type": "code",
   "execution_count": null,
   "metadata": {},
   "outputs": [],
   "source": [
    "# Extract an image of the PSF at a random point and display it:\n",
    "psf = calexp.getPsf()\n",
    "\n",
    "xsize = calexp.getDimensions().getX()\n",
    "ysize = calexp.getDimensions().getY()\n",
    "# Select a random point on the image and extract the PSF at that point:\n",
    "xpt = random.random()*xsize\n",
    "ypt = random.random()*ysize\n",
    "psfimage = psf.computeImage(geom.PointD(xpt, ypt))\n",
    "img = psfimage.array\n",
    "\n",
    "# Create an ImageNormalize object\n",
    "norm = ImageNormalize(img, interval=MinMaxInterval(),\n",
    "                      stretch=LogStretch())\n",
    "\n",
    "plt.imshow(img, norm=norm, origin='lower')\n",
    "plt.xlabel('x (pix)')\n",
    "plt.ylabel('y (pix)')\n",
    "plt.show()\n"
   ]
  },
  {
   "cell_type": "markdown",
   "metadata": {},
   "source": [
    "This is a well-formed image of a reasonable-looking PSF. We thus consider this portion of the test to have passed.\n",
    "\n",
    "We have now confirmed that a randomly-selected Processed Visit Image (aka \"calexp\") has image, mask, and variance planes, and an associated WCS and PSF that behave as expected."
   ]
  },
  {
   "cell_type": "code",
   "execution_count": null,
   "metadata": {},
   "outputs": [],
   "source": []
  }
 ],
 "metadata": {
  "kernelspec": {
   "display_name": "LSST",
   "language": "python",
   "name": "lsst"
  },
  "language_info": {
   "codemirror_mode": {
    "name": "ipython",
    "version": 3
   },
   "file_extension": ".py",
   "mimetype": "text/x-python",
   "name": "python",
   "nbconvert_exporter": "python",
   "pygments_lexer": "ipython3",
   "version": "3.7.6"
  }
 },
 "nbformat": 4,
 "nbformat_minor": 4
}
