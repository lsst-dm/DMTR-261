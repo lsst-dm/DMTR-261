{
 "cells": [
  {
   "cell_type": "markdown",
   "metadata": {},
   "source": [
    "# Test notebook for Acceptance Test Campaign related to LSST Science Pipelines Release 20.0.0\n",
    "\n",
    "This test will be executed on the LSST Science Platform Notebook Aspect, initialized with Science Pipelines release `r20-0-0`."
   ]
  },
  {
   "cell_type": "markdown",
   "metadata": {},
   "source": [
    "### Test Case LVV-T151: Verify Implementation of Catalog Export Formats From the Notebook Aspect\n",
    "Verify that catalog data is exportable from the notebook aspect in a variety of community-standard formats."
   ]
  },
  {
   "cell_type": "markdown",
   "metadata": {},
   "source": [
    "This test will utilize the TAP query service, with tools that have been implemented in the _jupyterlabutils_ library to access the TAP service using _pyvo_."
   ]
  },
  {
   "cell_type": "code",
   "execution_count": null,
   "metadata": {},
   "outputs": [],
   "source": [
    "import pandas\n",
    "from jupyterlabutils.notebook import get_catalog, retrieve_query\n",
    "\n",
    "pandas.set_option('display.max_rows', 1000)\n",
    "service = get_catalog()\n",
    "\n",
    "results = service.search(\"SELECT ra, decl, w1mpro_ep, w2mpro_ep, w3mpro_ep FROM wise_00.allwise_p3as_mep WHERE CONTAINS(POINT('ICRS', ra, decl), CIRCLE('ICRS', 192.85, 27.13, .2)) = 1\")\n",
    "tab = results.to_table()"
   ]
  },
  {
   "cell_type": "code",
   "execution_count": null,
   "metadata": {},
   "outputs": [],
   "source": [
    "# How many entries did it return?\n",
    "len(tab)"
   ]
  },
  {
   "cell_type": "markdown",
   "metadata": {},
   "source": [
    "Now write out the tables to CSV, VOTABLE, and FITS formats."
   ]
  },
  {
   "cell_type": "code",
   "execution_count": null,
   "metadata": {},
   "outputs": [],
   "source": [
    "tab.write('test.csv', format='ascii.csv')\n",
    "tab.write('test.vot', format='votable')\n",
    "tab.write('test.fits', format='fits')"
   ]
  },
  {
   "cell_type": "markdown",
   "metadata": {},
   "source": [
    "Check that the files all contain the same number of results:"
   ]
  },
  {
   "cell_type": "code",
   "execution_count": null,
   "metadata": {},
   "outputs": [],
   "source": [
    "from astropy.table import Table\n",
    "dat_csv = Table.read('test.csv', format='ascii.csv')\n",
    "dat_vot = Table.read('test.vot', format='votable')\n",
    "dat_fits = Table.read('test.fits', format='fits')\n",
    "\n",
    "import numpy as np\n",
    "print(np.size(dat_csv), np.size(dat_vot), np.size(dat_fits))"
   ]
  },
  {
   "cell_type": "code",
   "execution_count": null,
   "metadata": {},
   "outputs": [],
   "source": []
  }
 ],
 "metadata": {
  "kernelspec": {
   "display_name": "LSST",
   "language": "python",
   "name": "lsst"
  },
  "language_info": {
   "codemirror_mode": {
    "name": "ipython",
    "version": 3
   },
   "file_extension": ".py",
   "mimetype": "text/x-python",
   "name": "python",
   "nbconvert_exporter": "python",
   "pygments_lexer": "ipython3",
   "version": "3.7.6"
  }
 },
 "nbformat": 4,
 "nbformat_minor": 4
}
