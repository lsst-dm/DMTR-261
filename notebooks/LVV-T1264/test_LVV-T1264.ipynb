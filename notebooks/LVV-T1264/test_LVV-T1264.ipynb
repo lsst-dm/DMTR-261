{
 "cells": [
  {
   "cell_type": "markdown",
   "metadata": {},
   "source": [
    "# Test notebook for Acceptance Test Campaign related to LSST Science Pipelines Release 20.0\n",
    "\n",
    "This test will be executed on the LSST Science Platform Notebook Aspect, initialized with Science Pipelines release `r20-0-0`."
   ]
  },
  {
   "cell_type": "markdown",
   "metadata": {},
   "source": [
    "### Test case LVV-T1264: Verify implementation of archiving camera test data\n",
    "\n",
    "Verify that a subset of camera test data has been ingested into Butler repos and is available through standard data access tools."
   ]
  },
  {
   "cell_type": "code",
   "execution_count": null,
   "metadata": {},
   "outputs": [],
   "source": [
    "# Confirm that the version of the Science Pipelines is v20_0_0:\n",
    "! echo $HOSTNAME\n",
    "! eups list -s | grep lsst_distrib"
   ]
  },
  {
   "cell_type": "code",
   "execution_count": null,
   "metadata": {},
   "outputs": [],
   "source": [
    "import numpy as np\n",
    "%matplotlib inline\n",
    "import matplotlib.pyplot as plt\n",
    "from astropy.visualization import (MinMaxInterval, AsinhStretch, ZScaleInterval, LogStretch, LinearStretch,\n",
    "                                   ImageNormalize)\n",
    "import lsst.daf.persistence as dafPersist ### Gen 2 Butler (dafPersist.Butler)"
   ]
  },
  {
   "cell_type": "code",
   "execution_count": null,
   "metadata": {},
   "outputs": [],
   "source": [
    "zscale = ZScaleInterval()\n",
    "\n",
    "# Set up some plotting defaults:\n",
    "plt.rcParams.update({'figure.figsize' : (9, 8)})\n",
    "plt.rcParams.update({'font.size' : 18})\n",
    "plt.rcParams.update({'axes.linewidth' : 3})\n",
    "plt.rcParams.update({'axes.labelweight' : 3})\n",
    "plt.rcParams.update({'axes.titleweight' : 3})\n",
    "plt.rcParams.update({'ytick.major.width' : 3})\n",
    "plt.rcParams.update({'ytick.minor.width' : 2})\n",
    "plt.rcParams.update({'ytick.major.size' : 8})\n",
    "plt.rcParams.update({'ytick.minor.size' : 5})\n",
    "plt.rcParams.update({'xtick.major.size' : 8})\n",
    "plt.rcParams.update({'xtick.minor.size' : 5})\n",
    "plt.rcParams.update({'xtick.major.width' : 3})\n",
    "plt.rcParams.update({'xtick.minor.width' : 2})\n",
    "plt.rcParams.update({'xtick.direction' : 'in'})\n",
    "plt.rcParams.update({'ytick.direction' : 'in'})"
   ]
  },
  {
   "cell_type": "markdown",
   "metadata": {},
   "source": [
    "### Load and examine some camera test-stand data\n",
    "\n",
    "We will work with data from the \"LDM-503-11a: ComCam OPS Readiness Test Plan and Report\" test campaign."
   ]
  },
  {
   "cell_type": "code",
   "execution_count": null,
   "metadata": {},
   "outputs": [],
   "source": [
    "# The path to the data from the most recent Operations Rehearsal is:\n",
    "repo_path = '/project/shared/comCam/rerun/CALSET_20200729_1847_v2/'"
   ]
  },
  {
   "cell_type": "code",
   "execution_count": null,
   "metadata": {},
   "outputs": [],
   "source": [
    "butler = dafPersist.Butler(repo_path)"
   ]
  },
  {
   "cell_type": "code",
   "execution_count": null,
   "metadata": {},
   "outputs": [],
   "source": [
    "# These data consist of biases and flats, with the following required dataId dimensions:\n",
    "# {'detectorName', 'dateObs', 'raftName'}\n",
    "# 2020-10-28|R22|S00\n",
    "# Pick a visit/ccd at random:\n",
    "dataId = {'dateObs': '2020-10-28', 'raftName': 'R22', 'detectorName': 'S00', 'filter': 'r'}\n",
    "\n",
    "# Load a bias image\n",
    "bias = butler.get('bias', **dataId)\n",
    "\n",
    "## Load a flat image\n",
    "flat = butler.get('flat', **dataId)"
   ]
  },
  {
   "cell_type": "code",
   "execution_count": null,
   "metadata": {},
   "outputs": [],
   "source": [
    "# Extract the images and normalize them:\n",
    "biasim = bias.image.array\n",
    "\n",
    "# Create an ImageNormalize object\n",
    "biasnorm = ImageNormalize(biasim, interval=ZScaleInterval(),\n",
    "                          stretch=LinearStretch())\n",
    "\n",
    "flatim = flat.image.array\n",
    "\n",
    "# Create an ImageNormalize object\n",
    "flatnorm = ImageNormalize(flatim, interval=ZScaleInterval(),\n",
    "                          stretch=LinearStretch())"
   ]
  },
  {
   "cell_type": "markdown",
   "metadata": {},
   "source": [
    "### Display the bias and flat images (note that these have already been ISR-corrected)"
   ]
  },
  {
   "cell_type": "code",
   "execution_count": null,
   "metadata": {},
   "outputs": [],
   "source": [
    "np.count_nonzero(np.isfinite(biasim))"
   ]
  },
  {
   "cell_type": "code",
   "execution_count": null,
   "metadata": {},
   "outputs": [],
   "source": [
    "okbiaspix = biasim[np.isfinite(biasim)]\n",
    "plt.hist(okbiaspix, bins=np.arange(np.percentile(okbiaspix, 0.05), np.percentile(okbiaspix, 99.95), 1),\n",
    "         histtype='step', linewidth=4, log=True)\n",
    "plt.vlines(0, 1e-5, 5e6, color='gray', linestyle='--', linewidth=3)\n",
    "plt.ylim(3e1, 2e6)\n",
    "plt.xlabel('counts')\n",
    "plt.ylabel('number of pixels')\n",
    "plt.title('bias')\n",
    "plt.minorticks_on()\n",
    "plt.show()"
   ]
  },
  {
   "cell_type": "code",
   "execution_count": null,
   "metadata": {},
   "outputs": [],
   "source": [
    "plt.imshow(biasim, norm=biasnorm, origin='lower',\n",
    "           vmax=np.percentile(biasim,99.95), vmin=np.percentile(biasim, 0.05))\n",
    "plt.colorbar()\n",
    "plt.show()"
   ]
  },
  {
   "cell_type": "code",
   "execution_count": null,
   "metadata": {},
   "outputs": [],
   "source": [
    "okflatpix = flatim[np.isfinite(flatim)]\n",
    "plt.hist(okflatpix, bins=np.arange(np.min(okflatpix), np.max(okflatpix), 0.01),\n",
    "         histtype='step', linewidth=4, log=True)\n",
    "plt.vlines(1, 1e-5, 5e6, color='gray', linestyle='--', linewidth=3)\n",
    "plt.ylim(8e-1, 2e6)\n",
    "plt.xlabel('counts')\n",
    "plt.ylabel('number of pixels')\n",
    "plt.title('flat')\n",
    "plt.minorticks_on()\n",
    "plt.show()"
   ]
  },
  {
   "cell_type": "code",
   "execution_count": null,
   "metadata": {},
   "outputs": [],
   "source": [
    "plt.imshow(flatim, norm=flatnorm, origin='lower', \n",
    "           vmax=np.percentile(flatim,99.95), vmin=np.percentile(flatim, 0.05))\n",
    "plt.colorbar()\n",
    "plt.show()"
   ]
  },
  {
   "cell_type": "markdown",
   "metadata": {},
   "source": [
    "The images look well-formed. The bias has pixel values (roughly) centered on zero, and the flat has a median near 1.0, as expected. These archived data appear to be fine; thus we consider the results of this test to be a **pass**."
   ]
  },
  {
   "cell_type": "code",
   "execution_count": null,
   "metadata": {},
   "outputs": [],
   "source": []
  }
 ],
 "metadata": {
  "kernelspec": {
   "display_name": "LSST",
   "language": "python",
   "name": "lsst"
  },
  "language_info": {
   "codemirror_mode": {
    "name": "ipython",
    "version": 3
   },
   "file_extension": ".py",
   "mimetype": "text/x-python",
   "name": "python",
   "nbconvert_exporter": "python",
   "pygments_lexer": "ipython3",
   "version": "3.7.6"
  }
 },
 "nbformat": 4,
 "nbformat_minor": 4
}
