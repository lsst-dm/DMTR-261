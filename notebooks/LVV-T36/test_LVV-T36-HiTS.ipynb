{
 "cells": [
  {
   "cell_type": "markdown",
   "metadata": {},
   "source": [
    "# Test notebook for Acceptance Test Campaign related to LSST Science Pipelines Release 20.0\n",
    "\n",
    "This test will be executed on the LSST Science Platform Notebook Aspect, initialized with Science Pipelines release `r20-0-0`."
   ]
  },
  {
   "cell_type": "markdown",
   "metadata": {},
   "source": [
    "### Test case LVV-T36: Verify implementation of Difference Exposures\n",
    "Verify successful creation of a\n",
    "1. PSF-matched template image for a given Processed Visit Image\n",
    "2. Difference Exposure from each Processed Visit Image"
   ]
  },
  {
   "cell_type": "code",
   "execution_count": null,
   "metadata": {},
   "outputs": [],
   "source": [
    "# Confirm that the version of the Science Pipelines is v20_0_0:\n",
    "! echo $HOSTNAME\n",
    "! eups list -s | grep lsst_distrib"
   ]
  },
  {
   "cell_type": "code",
   "execution_count": null,
   "metadata": {},
   "outputs": [],
   "source": [
    "import lsst.daf.persistence as dafPersist\n",
    "# import lsst.daf.butler as dafButler ### Gen 3 Butler\n",
    "import numpy as np\n",
    "%matplotlib inline\n",
    "import matplotlib.pyplot as plt\n",
    "from astropy.visualization import (MinMaxInterval, AsinhStretch, ZScaleInterval, LogStretch, LinearStretch,\n",
    "                                   ImageNormalize)\n",
    "import lsst.daf.persistence as dafPersist ### Gen 2 Butler (dafPersist.Butler)"
   ]
  },
  {
   "cell_type": "code",
   "execution_count": null,
   "metadata": {},
   "outputs": [],
   "source": [
    "zscale = ZScaleInterval()\n",
    "\n",
    "# Set up some plotting defaults:\n",
    "plt.rcParams.update({'figure.figsize' : (12, 8)})\n",
    "plt.rcParams.update({'font.size' : 12})\n",
    "plt.rcParams.update({'axes.linewidth' : 3})\n",
    "plt.rcParams.update({'axes.labelweight' : 3})\n",
    "plt.rcParams.update({'axes.titleweight' : 3})\n",
    "plt.rcParams.update({'ytick.major.width' : 3})\n",
    "plt.rcParams.update({'ytick.minor.width' : 2})\n",
    "plt.rcParams.update({'ytick.major.size' : 8})\n",
    "plt.rcParams.update({'ytick.minor.size' : 5})\n",
    "plt.rcParams.update({'xtick.major.size' : 8})\n",
    "plt.rcParams.update({'xtick.minor.size' : 5})\n",
    "plt.rcParams.update({'xtick.major.width' : 3})\n",
    "plt.rcParams.update({'xtick.minor.width' : 2})\n",
    "plt.rcParams.update({'xtick.direction' : 'in'})\n",
    "plt.rcParams.update({'ytick.direction' : 'in'})"
   ]
  },
  {
   "cell_type": "markdown",
   "metadata": {},
   "source": [
    "### Load and examine some DECam difference images from HiTS"
   ]
  },
  {
   "cell_type": "code",
   "execution_count": null,
   "metadata": {},
   "outputs": [],
   "source": [
    "# Meredith pointed me to where she regularly re-runs HiTS data through diff imaging:\n",
    "diffim_repo = '/project/mrawls/hits2015/rerun/cw_2020_06'"
   ]
  },
  {
   "cell_type": "code",
   "execution_count": null,
   "metadata": {},
   "outputs": [],
   "source": [
    "butler = dafPersist.Butler(diffim_repo)"
   ]
  },
  {
   "cell_type": "code",
   "execution_count": null,
   "metadata": {},
   "outputs": [],
   "source": [
    "# Pick a visit/ccd at random:\n",
    "dataId = {'visit': 411406, 'ccd': 15}\n",
    "\n",
    "# Load the calexp image\n",
    "calexp = butler.get('calexp', **dataId)\n",
    "\n",
    "# Load the difference image\n",
    "diffexp = butler.get('deepDiff_differenceExp', **dataId)"
   ]
  },
  {
   "cell_type": "code",
   "execution_count": null,
   "metadata": {},
   "outputs": [],
   "source": [
    "# Extract the images and normalize them:\n",
    "im = calexp.image.array\n",
    "\n",
    "# Create an ImageNormalize object\n",
    "norm = ImageNormalize(im, interval=ZScaleInterval(),\n",
    "                      stretch=LinearStretch())\n",
    "\n",
    "diffim = diffexp.image.array\n",
    "\n",
    "# Create an ImageNormalize object\n",
    "diffnorm = ImageNormalize(diffim, interval=ZScaleInterval(),\n",
    "                          stretch=LinearStretch())"
   ]
  },
  {
   "cell_type": "markdown",
   "metadata": {},
   "source": [
    "### Compare the original image and the difference image"
   ]
  },
  {
   "cell_type": "code",
   "execution_count": null,
   "metadata": {},
   "outputs": [],
   "source": [
    "ncols = 2\n",
    "nrows = 1\n",
    "f, ax = plt.subplots(nrows=int(np.ceil(nrows)), ncols=int(ncols), sharey=True, sharex=True, figsize=(12,10))\n",
    "axs = ax.flatten()\n",
    "\n",
    "axs[0].imshow(im, norm=norm, origin='lower')\n",
    "axs[0].set_title('calexp')\n",
    "axs[1].imshow(diffim, norm=diffnorm, origin='lower')\n",
    "axs[1].set_title('difference image')\n",
    "#axs[0].imshow(im[1500:2000, 1000:1500], norm=norm, origin='lower')\n",
    "#axs[1].imshow(diffim[1500:2000, 1000:1500], norm=diffnorm, origin='lower')\n",
    "plt.show()"
   ]
  },
  {
   "cell_type": "markdown",
   "metadata": {},
   "source": [
    "### Confirm that the difference image has flux centered on zero"
   ]
  },
  {
   "cell_type": "code",
   "execution_count": null,
   "metadata": {},
   "outputs": [],
   "source": [
    "params = {\n",
    "   'axes.labelsize': 28,\n",
    "   'font.size': 24,\n",
    "   'legend.fontsize': 14,\n",
    "   'xtick.major.width': 3,\n",
    "   'xtick.minor.width': 2,\n",
    "   'xtick.major.size': 12,\n",
    "   'xtick.minor.size': 6,\n",
    "   'xtick.direction': 'in',\n",
    "   'xtick.top': True,\n",
    "   'lines.linewidth':3,\n",
    "   'axes.linewidth':3,\n",
    "   'axes.labelweight':3,\n",
    "   'axes.titleweight':3,\n",
    "   'ytick.major.width':3,\n",
    "   'ytick.minor.width':2,\n",
    "   'ytick.major.size': 12,\n",
    "   'ytick.minor.size': 6,\n",
    "   'ytick.direction': 'in',\n",
    "   'ytick.right': True,\n",
    "   'figure.figsize': [10, 8]\n",
    "   }\n",
    "\n",
    "plt.rcParams.update(params)\n",
    "\n",
    "plt.hist(np.concatenate(diffim), bins=np.arange(-100,100,1))\n",
    "plt.xlabel('flux')\n",
    "plt.yscale('log')\n",
    "plt.ylim(4,7e5)\n",
    "plt.vlines(0,0.1,1e6, linestyle='--')\n",
    "plt.show()\n",
    "\n",
    "print('Median flux of difference image: ',np.nanmedian(np.concatenate(diffim)))"
   ]
  },
  {
   "cell_type": "markdown",
   "metadata": {},
   "source": [
    "### Examine the diaSource catalogs to confirm they are well-formed"
   ]
  },
  {
   "cell_type": "code",
   "execution_count": null,
   "metadata": {},
   "outputs": [],
   "source": [
    "diasrc = butler.get('deepDiff_diaSrc', **dataId)"
   ]
  },
  {
   "cell_type": "code",
   "execution_count": null,
   "metadata": {},
   "outputs": [],
   "source": [
    "diasrc.asAstropy()"
   ]
  },
  {
   "cell_type": "code",
   "execution_count": null,
   "metadata": {},
   "outputs": [],
   "source": [
    "photocalib = butler.get('deepDiff_differenceExp_photoCalib', dataId=dataId)"
   ]
  },
  {
   "cell_type": "code",
   "execution_count": null,
   "metadata": {},
   "outputs": [],
   "source": [
    "photocalib = butler.get('deepDiff_differenceExp_photoCalib', dataId=dataId)\n",
    "deepDiff_mags = photocalib.instFluxToMagnitude(diasrc, 'ip_diffim_forced_PsfFlux')"
   ]
  },
  {
   "cell_type": "code",
   "execution_count": null,
   "metadata": {},
   "outputs": [],
   "source": [
    "plt.hist(deepDiff_mags[:,0], bins=np.arange(16,28,0.5), histtype='step', linewidth=4)\n",
    "plt.xlabel('forced phot magnitudes')\n",
    "plt.ylabel('N')\n",
    "plt.minorticks_on()\n",
    "plt.show()"
   ]
  },
  {
   "cell_type": "markdown",
   "metadata": {},
   "source": [
    "The magnitudes are reasonable -- between 16-27 for these sources. This is roughly what is expected for the these data. \n",
    "\n",
    "Furthermore, the table of diaSources looks well-formed and populated with reasonable values for all measured quantities.\n",
    "\n",
    "We have already confirmed that the difference images at various airmasses are good."
   ]
  }
 ],
 "metadata": {
  "kernelspec": {
   "display_name": "LSST",
   "language": "python",
   "name": "lsst"
  },
  "language_info": {
   "codemirror_mode": {
    "name": "ipython",
    "version": 3
   },
   "file_extension": ".py",
   "mimetype": "text/x-python",
   "name": "python",
   "nbconvert_exporter": "python",
   "pygments_lexer": "ipython3",
   "version": "3.7.6"
  }
 },
 "nbformat": 4,
 "nbformat_minor": 4
}
