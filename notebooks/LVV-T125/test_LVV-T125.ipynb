{
 "cells": [
  {
   "cell_type": "markdown",
   "metadata": {},
   "source": [
    "# Test notebook for Acceptance Test Campaign related to LSST Science Pipelines Release 20.0\n",
    "\n",
    "This test will be executed on the LSST Science Platform Notebook Aspect, initialized with Science Pipelines release `r20-0-0`."
   ]
  },
  {
   "cell_type": "markdown",
   "metadata": {},
   "source": [
    "### Test case LVV-T125: Verify implementation of Simulated Data\n",
    "Verify that the DMS can inject simulated data into data products for testing."
   ]
  },
  {
   "cell_type": "code",
   "execution_count": null,
   "metadata": {},
   "outputs": [],
   "source": [
    "# Confirm that the version of the Science Pipelines is v20_0_0:\n",
    "! echo $HOSTNAME\n",
    "! eups list -s | grep lsst_distrib"
   ]
  },
  {
   "cell_type": "code",
   "execution_count": null,
   "metadata": {},
   "outputs": [],
   "source": [
    "import lsst.daf.persistence as dafPersist\n",
    "import lsst.afw.display as afwDisplay"
   ]
  },
  {
   "cell_type": "code",
   "execution_count": null,
   "metadata": {},
   "outputs": [],
   "source": [
    "import matplotlib.pyplot as plt\n",
    "%matplotlib inline\n",
    "import numpy as np\n",
    "import astropy.units as u\n",
    "from astropy.coordinates import SkyCoord\n",
    "from astropy.visualization import (MinMaxInterval, AsinhStretch, ZScaleInterval, LogStretch, LinearStretch,\n",
    "                                   ImageNormalize)"
   ]
  },
  {
   "cell_type": "code",
   "execution_count": null,
   "metadata": {},
   "outputs": [],
   "source": [
    "zscale = ZScaleInterval()\n",
    "\n",
    "# Set up some plotting defaults:\n",
    "plt.rcParams.update({'figure.figsize' : (12, 8)})\n",
    "plt.rcParams.update({'font.size' : 12})\n",
    "plt.rcParams.update({'axes.linewidth' : 3})\n",
    "plt.rcParams.update({'axes.labelweight' : 3})\n",
    "plt.rcParams.update({'axes.titleweight' : 3})\n",
    "plt.rcParams.update({'ytick.major.width' : 3})\n",
    "plt.rcParams.update({'ytick.minor.width' : 2})\n",
    "plt.rcParams.update({'ytick.major.size' : 8})\n",
    "plt.rcParams.update({'ytick.minor.size' : 5})\n",
    "plt.rcParams.update({'xtick.major.size' : 8})\n",
    "plt.rcParams.update({'xtick.minor.size' : 5})\n",
    "plt.rcParams.update({'xtick.major.width' : 3})\n",
    "plt.rcParams.update({'xtick.minor.width' : 2})\n",
    "plt.rcParams.update({'xtick.direction' : 'in'})\n",
    "plt.rcParams.update({'ytick.direction' : 'in'})"
   ]
  },
  {
   "cell_type": "markdown",
   "metadata": {},
   "source": [
    "We will use HSC-RC2, as processed using `v20_0_0_rc1`, which is the pipelines version that was used to create `v20_0_0`."
   ]
  },
  {
   "cell_type": "code",
   "execution_count": null,
   "metadata": {},
   "outputs": [],
   "source": [
    "# The output repo is tagged with the Jira ticket number \"DM-26226\":\n",
    "rc2_repo_mb = '/datasets/hsc/repo/rerun/RCfakes/w_2020_36/DM-26711-multiBand'\n",
    "# Initialize the butler repo:\n",
    "butler_mb = dafPersist.Butler(rc2_repo_mb)"
   ]
  },
  {
   "cell_type": "code",
   "execution_count": null,
   "metadata": {},
   "outputs": [],
   "source": [
    "# The output repo is tagged with the Jira ticket number \"DM-26226\":\n",
    "rc2_repo_coadd = '/datasets/hsc/repo/rerun/RC/w_2020_36/DM-26637'\n",
    "# Initialize the butler repo:\n",
    "butler_coadd = dafPersist.Butler(rc2_repo_coadd)"
   ]
  },
  {
   "cell_type": "markdown",
   "metadata": {},
   "source": [
    "### Check for both a visit image and a coadd:"
   ]
  },
  {
   "cell_type": "code",
   "execution_count": null,
   "metadata": {},
   "outputs": [],
   "source": [
    "# Select an arbitrary source catalog from a deepCoadd_calexp:\n",
    "filter = 'HSC-I'\n",
    "# Coadd\n",
    "tract = 9813\n",
    "patch = '5,3'"
   ]
  },
  {
   "cell_type": "code",
   "execution_count": null,
   "metadata": {},
   "outputs": [],
   "source": [
    "dataIdCoadd = {'tract':tract, 'filter':filter, 'patch':patch}\n",
    "forced_src = butler_mb.get('deepCoadd_forced_src', dataId = dataIdCoadd)\n",
    "forced_src_ref = butler_mb.get('deepCoadd_ref', dataId = dataIdCoadd)\n",
    "fakes_img = butler_mb.get('fakes_deepCoadd_calexp', dataId = dataIdCoadd)"
   ]
  },
  {
   "cell_type": "code",
   "execution_count": null,
   "metadata": {},
   "outputs": [],
   "source": [
    "calexp_img = butler_coadd.get('deepCoadd_calexp', dataId = dataIdCoadd)\n",
    "forced_src_orig = butler_coadd.get('deepCoadd_forced_src', dataId = dataIdCoadd)"
   ]
  },
  {
   "cell_type": "code",
   "execution_count": null,
   "metadata": {},
   "outputs": [],
   "source": [
    "# Extract the images and normalize them:\n",
    "im = calexp_img.image.array\n",
    "\n",
    "# Create an ImageNormalize object\n",
    "norm = ImageNormalize(im, interval=ZScaleInterval(),\n",
    "                      stretch=LinearStretch())\n",
    "\n",
    "fakes_im = fakes_img.image.array\n",
    "\n",
    "# Create an ImageNormalize object\n",
    "fakesnorm = ImageNormalize(fakes_im, interval=ZScaleInterval(),\n",
    "                           stretch=LinearStretch())\n",
    "\n",
    "diff = fakes_im - im"
   ]
  },
  {
   "cell_type": "markdown",
   "metadata": {},
   "source": [
    "### Compare the original calexp, the calexp with fakes, and the difference (i.e., the fakes alone)"
   ]
  },
  {
   "cell_type": "code",
   "execution_count": null,
   "metadata": {},
   "outputs": [],
   "source": [
    "plt.rcParams.update({'figure.figsize' : (14, 7)})\n",
    "\n",
    "plt.figure()\n",
    "\n",
    "plt.subplot(131)\n",
    "plt.imshow(im, norm=norm, origin='lower')\n",
    "plt.title('calexp')\n",
    "\n",
    "plt.subplot(132)\n",
    "plt.imshow(fakes_im, norm=fakesnorm, origin='lower')\n",
    "plt.title('calexp with fakes')\n",
    "\n",
    "plt.subplot(133)\n",
    "plt.imshow(diff, norm=fakesnorm, origin='lower')\n",
    "plt.title('difference')\n",
    "\n",
    "plt.show()"
   ]
  },
  {
   "cell_type": "markdown",
   "metadata": {},
   "source": [
    "### Same comparison, but zoomed in closer"
   ]
  },
  {
   "cell_type": "code",
   "execution_count": null,
   "metadata": {},
   "outputs": [],
   "source": [
    "plt.rcParams.update({'figure.figsize' : (14, 7)})\n",
    "\n",
    "plt.figure()\n",
    "\n",
    "plt.subplot(131)\n",
    "plt.imshow(im[1000:1500, 1000:1500], norm=norm, origin='lower')\n",
    "plt.title('calexp')\n",
    "\n",
    "plt.subplot(132)\n",
    "plt.imshow(fakes_im[1000:1500, 1000:1500], norm=fakesnorm, origin='lower')\n",
    "plt.title('calexp with fakes')\n",
    "\n",
    "plt.subplot(133)\n",
    "plt.imshow(diff[1000:1500, 1000:1500], norm=fakesnorm, origin='lower')\n",
    "plt.title('difference')\n",
    "\n",
    "plt.show()"
   ]
  },
  {
   "cell_type": "code",
   "execution_count": null,
   "metadata": {},
   "outputs": [],
   "source": [
    "fakeSourceCat = butler_mb.get('deepCoadd_fakeSourceCat', dataId = dataIdCoadd)"
   ]
  },
  {
   "cell_type": "code",
   "execution_count": null,
   "metadata": {},
   "outputs": [],
   "source": [
    "# Convert source catalog to Pandas dataframe:\n",
    "df = fakeSourceCat.toDataFrame()"
   ]
  },
  {
   "cell_type": "code",
   "execution_count": null,
   "metadata": {},
   "outputs": [],
   "source": [
    "dsts = butler_mb.getDatasetTypes()\n",
    "for d in dsts:\n",
    "    # if 'deepCoadd' in d:\n",
    "    if 'ref' in d:\n",
    "        print(d)"
   ]
  },
  {
   "cell_type": "code",
   "execution_count": null,
   "metadata": {},
   "outputs": [],
   "source": [
    "print(len(forced_src), len(forced_src_orig))"
   ]
  },
  {
   "cell_type": "code",
   "execution_count": null,
   "metadata": {},
   "outputs": [],
   "source": [
    "sch = forced_src.schema"
   ]
  },
  {
   "cell_type": "code",
   "execution_count": null,
   "metadata": {},
   "outputs": [],
   "source": [
    "for s in sch.getNames():\n",
    "    if 'fake' in s:\n",
    "        print(s)"
   ]
  },
  {
   "cell_type": "markdown",
   "metadata": {},
   "source": [
    "### Use this flag to select objects overlapping the fake sources:"
   ]
  },
  {
   "cell_type": "code",
   "execution_count": null,
   "metadata": {},
   "outputs": [],
   "source": [
    "isfake = (forced_src['base_PixelFlags_flag_fakeCenter'] == True)"
   ]
  },
  {
   "cell_type": "code",
   "execution_count": null,
   "metadata": {},
   "outputs": [],
   "source": [
    "np.sum(isfake)"
   ]
  },
  {
   "cell_type": "code",
   "execution_count": null,
   "metadata": {},
   "outputs": [],
   "source": [
    "xy0 = calexp_img.getXY0()"
   ]
  },
  {
   "cell_type": "code",
   "execution_count": null,
   "metadata": {},
   "outputs": [],
   "source": [
    "cutout_size = 750\n",
    "inbox = (forced_src['base_SdssCentroid_x']-xy0[0] < cutout_size) & (forced_src['base_SdssCentroid_y']-xy0[1] < cutout_size)"
   ]
  },
  {
   "cell_type": "code",
   "execution_count": null,
   "metadata": {},
   "outputs": [],
   "source": [
    "plt.rcParams.update({'figure.figsize' : (14, 7)})\n",
    "plt.rcParams.update({'font.size' : 12})\n",
    "\n",
    "plt.figure()\n",
    "\n",
    "plt.subplot(121)\n",
    "plt.imshow(im[0:cutout_size, 0:cutout_size], norm=norm, origin='lower')\n",
    "plt.scatter(forced_src[inbox]['base_SdssCentroid_x']-xy0[0], forced_src[inbox]['base_SdssCentroid_y']-xy0[1],\\\n",
    "            s=200, edgecolor='red',facecolor='None', label='all sources')\n",
    "plt.scatter(forced_src[inbox & isfake]['base_SdssCentroid_x']-xy0[0], forced_src[inbox & isfake]['base_SdssCentroid_y']-xy0[1],\\\n",
    "            s=200, edgecolor='black',facecolor='None', label='flagged as fake')\n",
    "plt.legend(loc='lower right')\n",
    "plt.xlim(0,cutout_size)\n",
    "plt.ylim(0,cutout_size)\n",
    "plt.title('original image')\n",
    "\n",
    "plt.subplot(122)\n",
    "plt.imshow(diff[0:cutout_size, 0:cutout_size], norm=norm, origin='lower')\n",
    "#plt.scatter(forced_src[inbox]['base_SdssCentroid_x']-xy0[0], forced_src[inbox]['base_SdssCentroid_y']-xy0[1], s=200, edgecolor='red',facecolor='None')\n",
    "plt.scatter(forced_src[inbox & isfake]['base_SdssCentroid_x']-xy0[0], forced_src[inbox & isfake]['base_SdssCentroid_y']-xy0[1],\\\n",
    "            s=200, edgecolor='black',facecolor='None', label='flagged as fake')\n",
    "plt.legend(loc='lower right')\n",
    "plt.xlim(0,cutout_size)\n",
    "plt.ylim(0,cutout_size)\n",
    "plt.title('fakes_image - original')\n",
    "\n",
    "plt.show()"
   ]
  },
  {
   "cell_type": "markdown",
   "metadata": {},
   "source": [
    "## Use spatial cuts to select the nearest object to each fake source"
   ]
  },
  {
   "cell_type": "code",
   "execution_count": null,
   "metadata": {},
   "outputs": [],
   "source": [
    "fake_cands = forced_src[isfake].copy(deep=True)\n",
    "\n",
    "# Select only fakes within the ra, dec range of the patch we've chosen:\n",
    "ramin = df.raJ2000 > np.min(fake_cands['coord_ra'])\n",
    "ramax = df.raJ2000 < np.max(fake_cands['coord_ra'])\n",
    "decmin = df.decJ2000 > np.min(fake_cands['coord_dec'])\n",
    "decmax = df.decJ2000 < np.max(fake_cands['coord_dec'])\n",
    "\n",
    "df_in_patch = df[ramin & ramax & decmin & decmax]\n",
    "\n",
    "sc_fakes = SkyCoord(ra=df_in_patch.raJ2000.values*u.rad, dec=df_in_patch.decJ2000.values*u.rad)"
   ]
  },
  {
   "cell_type": "code",
   "execution_count": null,
   "metadata": {},
   "outputs": [],
   "source": [
    "# Initialize arrays of \"-999\" values to hold the indices\n",
    "fake_indices = np.zeros(len(sc_fakes), dtype=int)-999\n",
    "min_seps = np.zeros(len(sc_fakes))-999"
   ]
  },
  {
   "cell_type": "markdown",
   "metadata": {},
   "source": [
    "#### Match the fakes and the measured sources that were flagged as fakes, using positions:"
   ]
  },
  {
   "cell_type": "code",
   "execution_count": null,
   "metadata": {},
   "outputs": [],
   "source": [
    "sc_cand = SkyCoord(ra=fake_cands['coord_ra']*u.rad, dec=fake_cands['coord_dec']*u.rad)\n",
    "\n",
    "for i in range(len(sc_fakes)):\n",
    "    sep = sc_fakes[i].separation(sc_cand)\n",
    "    fake_indices[i] = int(np.where(sep == np.min(sep))[0][0])\n",
    "    min_seps[i] = sep[np.where(sep == np.min(sep))[0][0]].to(u.arcsec).value"
   ]
  },
  {
   "cell_type": "code",
   "execution_count": null,
   "metadata": {},
   "outputs": [],
   "source": [
    "# Confirm that the matches are all at small separations:\n",
    "\n",
    "plt.rcParams.update({'figure.figsize' : (9, 6)})\n",
    "plt.rcParams.update({'font.size' : 24})\n",
    "plt.hist(min_seps, bins=np.arange(0, 0.3, 0.01), histtype='step', linewidth=4)\n",
    "plt.xlim(0, 0.3)\n",
    "plt.xlabel('separation (arcsec)')\n",
    "plt.ylabel('N')\n",
    "plt.minorticks_on()\n",
    "plt.show()"
   ]
  },
  {
   "cell_type": "markdown",
   "metadata": {},
   "source": [
    "### Compare the input and recovered photometry for matched fake sources"
   ]
  },
  {
   "cell_type": "code",
   "execution_count": null,
   "metadata": {},
   "outputs": [],
   "source": [
    "photocalib = butler_coadd.get('deepCoadd_photoCalib', dataId = dataIdCoadd)\n",
    "imags_meas = photocalib.instFluxToMagnitude(fake_cands, 'base_PsfFlux')"
   ]
  },
  {
   "cell_type": "code",
   "execution_count": null,
   "metadata": {},
   "outputs": [],
   "source": [
    "plt.rcParams.update({'figure.figsize' : (11, 8)})\n",
    "plt.rcParams.update({'font.size' : 24})\n",
    "plt.plot(df_in_patch.imag, imags_meas[fake_indices,0]-df_in_patch.imag, 'k.', ms=10)\n",
    "plt.ylim(-0.18, 0.18)\n",
    "plt.xlim(14.3, 27.3)\n",
    "plt.hlines(0, 0, 30, color='gray')\n",
    "plt.minorticks_on()\n",
    "plt.xlabel(r'i$_{\\rm fake}$')\n",
    "plt.ylabel(r'i$_{meas}$ - i$_{\\rm fake}$')\n",
    "plt.show()"
   ]
  },
  {
   "cell_type": "code",
   "execution_count": null,
   "metadata": {},
   "outputs": [],
   "source": [
    "np.median(imags_meas[fake_indices,0]-df_in_patch.imag)"
   ]
  },
  {
   "cell_type": "markdown",
   "metadata": {},
   "source": [
    "The median offset is ~0.001 mag, so we'll say that the magnitudes are well recovered by the pipeline."
   ]
  }
 ],
 "metadata": {
  "kernelspec": {
   "display_name": "LSST",
   "language": "python",
   "name": "lsst"
  },
  "language_info": {
   "codemirror_mode": {
    "name": "ipython",
    "version": 3
   },
   "file_extension": ".py",
   "mimetype": "text/x-python",
   "name": "python",
   "nbconvert_exporter": "python",
   "pygments_lexer": "ipython3",
   "version": "3.7.6"
  }
 },
 "nbformat": 4,
 "nbformat_minor": 4
}
