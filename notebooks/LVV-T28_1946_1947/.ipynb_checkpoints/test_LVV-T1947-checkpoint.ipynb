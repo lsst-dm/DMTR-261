{
 "cells": [
  {
   "cell_type": "markdown",
   "metadata": {},
   "source": [
    "# Test notebook for Acceptance Test Campaign related to LSST Science Pipelines Release 20.0\n",
    "\n",
    "This test will be executed on the LSST Science Platform Notebook Aspect, initialized with Science Pipelines release `r20-0-0`."
   ]
  },
  {
   "cell_type": "markdown",
   "metadata": {},
   "source": [
    "### Test case LVV-T1947: Verify implementation of measurements in catalogs from difference images\n",
    "Verify that source measurements in catalogs are in flux units."
   ]
  },
  {
   "cell_type": "code",
   "execution_count": null,
   "metadata": {},
   "outputs": [],
   "source": [
    "# Confirm that the version of the Science Pipelines is v20_0_0:\n",
    "! echo $HOSTNAME\n",
    "! eups list -s | grep lsst_distrib"
   ]
  },
  {
   "cell_type": "code",
   "execution_count": null,
   "metadata": {},
   "outputs": [],
   "source": [
    "import lsst.daf.persistence as dafPersist"
   ]
  },
  {
   "cell_type": "code",
   "execution_count": null,
   "metadata": {},
   "outputs": [],
   "source": [
    "import numpy as np"
   ]
  },
  {
   "cell_type": "markdown",
   "metadata": {},
   "source": [
    "## Check a dataset with difference imaging"
   ]
  },
  {
   "cell_type": "code",
   "execution_count": null,
   "metadata": {},
   "outputs": [],
   "source": [
    "# Meredith pointed me to where she regularly re-runs HiTS data through diff imaging:\n",
    "diffim_repo = '/project/mrawls/hits2015/rerun/cw_2020_08'"
   ]
  },
  {
   "cell_type": "code",
   "execution_count": null,
   "metadata": {},
   "outputs": [],
   "source": [
    "# This cell is a workaround for an issue discussed in #dm-butler on March 16, 2020. \n",
    "# The relevant Jira ticket is DM-21333.\n",
    "\n",
    "#import lsst.obs.base as obs_base\n",
    "#obs_base.FilterDefinitionCollection.reset() "
   ]
  },
  {
   "cell_type": "code",
   "execution_count": null,
   "metadata": {},
   "outputs": [],
   "source": [
    "butler_dia = dafPersist.Butler(diffim_repo)"
   ]
  },
  {
   "cell_type": "code",
   "execution_count": null,
   "metadata": {},
   "outputs": [],
   "source": [
    "dataId_dia = {'visit': 411406, 'ccd': 15}"
   ]
  },
  {
   "cell_type": "code",
   "execution_count": null,
   "metadata": {},
   "outputs": [],
   "source": [
    "# To discover what dataset types are there:\n",
    "#ddd = butler_dia.getDatasetTypes()\n",
    "#for d in ddd:\n",
    "#    if 'Src' in d:\n",
    "#        print(d)"
   ]
  },
  {
   "cell_type": "code",
   "execution_count": null,
   "metadata": {},
   "outputs": [],
   "source": [
    "deepDiff_dia_src = butler_dia.get('deepDiff_diaSrc', dataId = dataId_dia)"
   ]
  },
  {
   "cell_type": "code",
   "execution_count": null,
   "metadata": {},
   "outputs": [],
   "source": [
    "sch_dia = deepDiff_dia_src.schema"
   ]
  },
  {
   "cell_type": "code",
   "execution_count": null,
   "metadata": {},
   "outputs": [],
   "source": [
    "dia_src_flag = []\n",
    "for a in sch_dia:\n",
    "    nnn = a.getField().getName()\n",
    "    if 'instFlux' in nnn and 'flag' not in nnn:\n",
    "        flux_units = a.getField().getUnits()\n",
    "        dia_src_flag.append('count' in flux_units)\n",
    "        print(f'{nnn:60}..... {flux_units:20}')"
   ]
  },
  {
   "cell_type": "code",
   "execution_count": null,
   "metadata": {},
   "outputs": [],
   "source": [
    "assert(np.all(dia_src_flag)), 'FALSE: not all instFlux entries have units of counts.'\n",
    "print('All forced_src instFlux entries have units of counts: ',np.all(dia_src_flag))"
   ]
  },
  {
   "cell_type": "code",
   "execution_count": null,
   "metadata": {},
   "outputs": [],
   "source": []
  }
 ],
 "metadata": {
  "kernelspec": {
   "display_name": "LSST",
   "language": "python",
   "name": "lsst"
  },
  "language_info": {
   "codemirror_mode": {
    "name": "ipython",
    "version": 3
   },
   "file_extension": ".py",
   "mimetype": "text/x-python",
   "name": "python",
   "nbconvert_exporter": "python",
   "pygments_lexer": "ipython3",
   "version": "3.7.6"
  }
 },
 "nbformat": 4,
 "nbformat_minor": 4
}
