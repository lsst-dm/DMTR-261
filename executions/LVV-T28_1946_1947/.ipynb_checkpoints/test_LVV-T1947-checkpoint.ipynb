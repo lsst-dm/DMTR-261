{
 "cells": [
  {
   "cell_type": "markdown",
   "metadata": {},
   "source": [
    "# Test notebook for Acceptance Test Campaign related to LSST Science Pipelines Release 20.0\n",
    "\n",
    "This test will be executed on the LSST Science Platform Notebook Aspect, initialized with Science Pipelines release `r20-0-0`."
   ]
  },
  {
   "cell_type": "markdown",
   "metadata": {},
   "source": [
    "### Test case LVV-T1947: Verify implementation of measurements in catalogs from difference images\n",
    "Verify that source measurements in catalogs are in flux units."
   ]
  },
  {
   "cell_type": "code",
   "execution_count": 1,
   "metadata": {},
   "outputs": [
    {
     "name": "stdout",
     "output_type": "stream",
     "text": [
      "nb-jcarlin-r20-0-0\n",
      "lsst_distrib          20.0.0     \tcurrent v20_0_0 setup\n"
     ]
    }
   ],
   "source": [
    "# Confirm that the version of the Science Pipelines is v20_0_0:\n",
    "! echo $HOSTNAME\n",
    "! eups list -s | grep lsst_distrib"
   ]
  },
  {
   "cell_type": "code",
   "execution_count": 2,
   "metadata": {},
   "outputs": [],
   "source": [
    "import lsst.daf.persistence as dafPersist"
   ]
  },
  {
   "cell_type": "code",
   "execution_count": 3,
   "metadata": {},
   "outputs": [],
   "source": [
    "import numpy as np"
   ]
  },
  {
   "cell_type": "markdown",
   "metadata": {},
   "source": [
    "## Check a dataset with difference imaging"
   ]
  },
  {
   "cell_type": "code",
   "execution_count": 4,
   "metadata": {},
   "outputs": [],
   "source": [
    "# Meredith pointed me to where she regularly re-runs HiTS data through diff imaging:\n",
    "diffim_repo = '/project/mrawls/hits2015/rerun/cw_2020_08'"
   ]
  },
  {
   "cell_type": "code",
   "execution_count": 6,
   "metadata": {},
   "outputs": [],
   "source": [
    "# This cell is a workaround for an issue discussed in #dm-butler on March 16, 2020. \n",
    "# The relevant Jira ticket is DM-21333.\n",
    "\n",
    "#import lsst.obs.base as obs_base\n",
    "#obs_base.FilterDefinitionCollection.reset() "
   ]
  },
  {
   "cell_type": "code",
   "execution_count": 7,
   "metadata": {},
   "outputs": [],
   "source": [
    "butler_dia = dafPersist.Butler(diffim_repo)"
   ]
  },
  {
   "cell_type": "code",
   "execution_count": 8,
   "metadata": {},
   "outputs": [],
   "source": [
    "dataId_dia = {'visit': 411406, 'ccd': 15}"
   ]
  },
  {
   "cell_type": "code",
   "execution_count": 13,
   "metadata": {},
   "outputs": [],
   "source": [
    "# To discover what dataset types are there:\n",
    "#ddd = butler_dia.getDatasetTypes()\n",
    "#for d in ddd:\n",
    "#    if 'Src' in d:\n",
    "#        print(d)"
   ]
  },
  {
   "cell_type": "code",
   "execution_count": 10,
   "metadata": {},
   "outputs": [],
   "source": [
    "deepDiff_dia_src = butler_dia.get('deepDiff_diaSrc', dataId = dataId_dia)"
   ]
  },
  {
   "cell_type": "code",
   "execution_count": 11,
   "metadata": {},
   "outputs": [],
   "source": [
    "sch_dia = deepDiff_dia_src.schema"
   ]
  },
  {
   "cell_type": "code",
   "execution_count": 12,
   "metadata": {},
   "outputs": [
    {
     "name": "stdout",
     "output_type": "stream",
     "text": [
      "base_SdssShape_instFlux                                     ..... count               \n",
      "base_SdssShape_instFluxErr                                  ..... count               \n",
      "base_SdssShape_instFlux_xx_Cov                              ..... count*pixel^2       \n",
      "base_SdssShape_instFlux_yy_Cov                              ..... count*pixel^2       \n",
      "base_SdssShape_instFlux_xy_Cov                              ..... count*pixel^2       \n",
      "base_CircularApertureFlux_3_0_instFlux                      ..... count               \n",
      "base_CircularApertureFlux_3_0_instFluxErr                   ..... count               \n",
      "base_CircularApertureFlux_4_5_instFlux                      ..... count               \n",
      "base_CircularApertureFlux_4_5_instFluxErr                   ..... count               \n",
      "base_CircularApertureFlux_6_0_instFlux                      ..... count               \n",
      "base_CircularApertureFlux_6_0_instFluxErr                   ..... count               \n",
      "base_CircularApertureFlux_9_0_instFlux                      ..... count               \n",
      "base_CircularApertureFlux_9_0_instFluxErr                   ..... count               \n",
      "base_CircularApertureFlux_12_0_instFlux                     ..... count               \n",
      "base_CircularApertureFlux_12_0_instFluxErr                  ..... count               \n",
      "base_CircularApertureFlux_17_0_instFlux                     ..... count               \n",
      "base_CircularApertureFlux_17_0_instFluxErr                  ..... count               \n",
      "base_CircularApertureFlux_25_0_instFlux                     ..... count               \n",
      "base_CircularApertureFlux_25_0_instFluxErr                  ..... count               \n",
      "base_CircularApertureFlux_35_0_instFlux                     ..... count               \n",
      "base_CircularApertureFlux_35_0_instFluxErr                  ..... count               \n",
      "base_CircularApertureFlux_50_0_instFlux                     ..... count               \n",
      "base_CircularApertureFlux_50_0_instFluxErr                  ..... count               \n",
      "base_CircularApertureFlux_70_0_instFlux                     ..... count               \n",
      "base_CircularApertureFlux_70_0_instFluxErr                  ..... count               \n",
      "base_GaussianFlux_instFlux                                  ..... count               \n",
      "base_GaussianFlux_instFluxErr                               ..... count               \n",
      "base_PeakLikelihoodFlux_instFlux                            ..... count               \n",
      "base_PeakLikelihoodFlux_instFluxErr                         ..... count               \n",
      "base_PsfFlux_instFlux                                       ..... count               \n",
      "base_PsfFlux_instFluxErr                                    ..... count               \n",
      "ip_diffim_NaiveDipoleFlux_pos_instFlux                      ..... count               \n",
      "ip_diffim_NaiveDipoleFlux_pos_instFluxErr                   ..... count               \n",
      "ip_diffim_NaiveDipoleFlux_neg_instFlux                      ..... count               \n",
      "ip_diffim_NaiveDipoleFlux_neg_instFluxErr                   ..... count               \n",
      "ip_diffim_PsfDipoleFlux_pos_instFlux                        ..... count               \n",
      "ip_diffim_PsfDipoleFlux_pos_instFluxErr                     ..... count               \n",
      "ip_diffim_PsfDipoleFlux_neg_instFlux                        ..... count               \n",
      "ip_diffim_PsfDipoleFlux_neg_instFluxErr                     ..... count               \n",
      "ip_diffim_DipoleFit_pos_instFlux                            ..... count               \n",
      "ip_diffim_DipoleFit_pos_instFluxErr                         ..... pixel               \n",
      "ip_diffim_DipoleFit_neg_instFlux                            ..... count               \n",
      "ip_diffim_DipoleFit_neg_instFluxErr                         ..... pixel               \n",
      "ip_diffim_DipoleFit_instFlux                                ..... count               \n",
      "ip_diffim_forced_PsfFlux_instFlux                           .....                     \n",
      "ip_diffim_forced_PsfFlux_instFluxErr                        .....                     \n"
     ]
    }
   ],
   "source": [
    "dia_src_flag = []\n",
    "for a in sch_dia:\n",
    "    nnn = a.getField().getName()\n",
    "    if 'instFlux' in nnn and 'flag' not in nnn:\n",
    "        flux_units = a.getField().getUnits()\n",
    "        dia_src_flag.append('count' in flux_units)\n",
    "        print(f'{nnn:60}..... {flux_units:20}')"
   ]
  },
  {
   "cell_type": "code",
   "execution_count": 14,
   "metadata": {},
   "outputs": [
    {
     "ename": "AssertionError",
     "evalue": "FALSE: not all instFlux entries have units of counts.",
     "output_type": "error",
     "traceback": [
      "\u001b[0;31m---------------------------------------------------------------------------\u001b[0m",
      "\u001b[0;31mAssertionError\u001b[0m                            Traceback (most recent call last)",
      "\u001b[0;32m<ipython-input-14-9a5e0ede57d9>\u001b[0m in \u001b[0;36m<module>\u001b[0;34m\u001b[0m\n\u001b[0;32m----> 1\u001b[0;31m \u001b[0;32massert\u001b[0m\u001b[0;34m(\u001b[0m\u001b[0mnp\u001b[0m\u001b[0;34m.\u001b[0m\u001b[0mall\u001b[0m\u001b[0;34m(\u001b[0m\u001b[0mdia_src_flag\u001b[0m\u001b[0;34m)\u001b[0m\u001b[0;34m)\u001b[0m\u001b[0;34m,\u001b[0m \u001b[0;34m'FALSE: not all instFlux entries have units of counts.'\u001b[0m\u001b[0;34m\u001b[0m\u001b[0;34m\u001b[0m\u001b[0m\n\u001b[0m\u001b[1;32m      2\u001b[0m \u001b[0mprint\u001b[0m\u001b[0;34m(\u001b[0m\u001b[0;34m'All forced_src instFlux entries have units of counts: '\u001b[0m\u001b[0;34m,\u001b[0m\u001b[0mnp\u001b[0m\u001b[0;34m.\u001b[0m\u001b[0mall\u001b[0m\u001b[0;34m(\u001b[0m\u001b[0mdia_src_flag\u001b[0m\u001b[0;34m)\u001b[0m\u001b[0;34m)\u001b[0m\u001b[0;34m\u001b[0m\u001b[0;34m\u001b[0m\u001b[0m\n",
      "\u001b[0;31mAssertionError\u001b[0m: FALSE: not all instFlux entries have units of counts."
     ]
    }
   ],
   "source": [
    "assert(np.all(dia_src_flag)), 'FALSE: not all instFlux entries have units of counts.'\n",
    "print('All forced_src instFlux entries have units of counts: ',np.all(dia_src_flag))"
   ]
  },
  {
   "cell_type": "code",
   "execution_count": null,
   "metadata": {},
   "outputs": [],
   "source": []
  }
 ],
 "metadata": {
  "kernelspec": {
   "display_name": "LSST",
   "language": "python",
   "name": "lsst"
  },
  "language_info": {
   "codemirror_mode": {
    "name": "ipython",
    "version": 3
   },
   "file_extension": ".py",
   "mimetype": "text/x-python",
   "name": "python",
   "nbconvert_exporter": "python",
   "pygments_lexer": "ipython3",
   "version": "3.7.6"
  }
 },
 "nbformat": 4,
 "nbformat_minor": 4
}
