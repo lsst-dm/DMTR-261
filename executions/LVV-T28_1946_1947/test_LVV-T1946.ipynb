{
 "cells": [
  {
   "cell_type": "markdown",
   "metadata": {},
   "source": [
    "# Test notebook for Acceptance Test Campaign related to LSST Science Pipelines Release 20.0\n",
    "\n",
    "This test will be executed on the LSST Science Platform Notebook Aspect, initialized with Science Pipelines release `r20-0-0`."
   ]
  },
  {
   "cell_type": "markdown",
   "metadata": {},
   "source": [
    "### Test case LVV-T1946: Verify implementation of measurements in catalogs from coadds\n",
    "Verify that source measurements in catalogs are in flux units."
   ]
  },
  {
   "cell_type": "code",
   "execution_count": 1,
   "metadata": {},
   "outputs": [
    {
     "name": "stdout",
     "output_type": "stream",
     "text": [
      "nb-jcarlin-r20-0-0\n",
      "lsst_distrib          20.0.0     \tcurrent v20_0_0 setup\n"
     ]
    }
   ],
   "source": [
    "# Confirm that the version of the Science Pipelines is v20_0_0:\n",
    "! echo $HOSTNAME\n",
    "! eups list -s | grep lsst_distrib"
   ]
  },
  {
   "cell_type": "code",
   "execution_count": 2,
   "metadata": {},
   "outputs": [],
   "source": [
    "import lsst.daf.persistence as dafPersist"
   ]
  },
  {
   "cell_type": "code",
   "execution_count": 3,
   "metadata": {},
   "outputs": [],
   "source": [
    "import numpy as np"
   ]
  },
  {
   "cell_type": "markdown",
   "metadata": {},
   "source": [
    "We will use HSC-RC2, as processed using `v20_0_0_rc1`, which is the pipelines version that was used to create `v20_0_0`."
   ]
  },
  {
   "cell_type": "code",
   "execution_count": 4,
   "metadata": {},
   "outputs": [],
   "source": [
    "# The output repo is tagged with the Jira ticket number \"DM-25349\":\n",
    "rc2_repo = '/datasets/hsc/repo/rerun/RC/v20_0_0_rc1/DM-25349'"
   ]
  },
  {
   "cell_type": "code",
   "execution_count": 5,
   "metadata": {},
   "outputs": [],
   "source": [
    "# Initialize the butler repo:\n",
    "butler = dafPersist.Butler(rc2_repo)"
   ]
  },
  {
   "cell_type": "markdown",
   "metadata": {},
   "source": [
    "### Check for both a visit image and a coadd:"
   ]
  },
  {
   "cell_type": "code",
   "execution_count": 6,
   "metadata": {},
   "outputs": [],
   "source": [
    "# Select an arbitrary source catalog from a deepCoadd_calexp:\n",
    "filter = 'HSC-I'\n",
    "# Coadd\n",
    "tract = 9615\n",
    "patch = '5,3'"
   ]
  },
  {
   "cell_type": "code",
   "execution_count": 11,
   "metadata": {},
   "outputs": [],
   "source": [
    "dataIdCoadd = {'tract':tract, 'filter':filter, 'patch':patch}\n",
    "forced_src = butler.get('deepCoadd_forced_src', dataId = dataIdCoadd)"
   ]
  },
  {
   "cell_type": "markdown",
   "metadata": {},
   "source": [
    "### Check that the schema for the source catalog contains Flux measurements (and that they are in units of \"counts\")"
   ]
  },
  {
   "cell_type": "code",
   "execution_count": 12,
   "metadata": {},
   "outputs": [],
   "source": [
    "fsch = forced_src.schema"
   ]
  },
  {
   "cell_type": "markdown",
   "metadata": {},
   "source": [
    "#### Forced sources (coadds)"
   ]
  },
  {
   "cell_type": "code",
   "execution_count": 13,
   "metadata": {},
   "outputs": [
    {
     "name": "stdout",
     "output_type": "stream",
     "text": [
      "base_SdssShape_instFlux                                     ..... count               \n",
      "base_SdssShape_instFluxErr                                  ..... count               \n",
      "base_SdssShape_instFlux_xx_Cov                              ..... count*pixel^2       \n",
      "base_SdssShape_instFlux_yy_Cov                              ..... count*pixel^2       \n",
      "base_SdssShape_instFlux_xy_Cov                              ..... count*pixel^2       \n",
      "base_CircularApertureFlux_3_0_instFlux                      ..... count               \n",
      "base_CircularApertureFlux_3_0_instFluxErr                   ..... count               \n",
      "base_CircularApertureFlux_4_5_instFlux                      ..... count               \n",
      "base_CircularApertureFlux_4_5_instFluxErr                   ..... count               \n",
      "base_CircularApertureFlux_6_0_instFlux                      ..... count               \n",
      "base_CircularApertureFlux_6_0_instFluxErr                   ..... count               \n",
      "base_CircularApertureFlux_9_0_instFlux                      ..... count               \n",
      "base_CircularApertureFlux_9_0_instFluxErr                   ..... count               \n",
      "base_CircularApertureFlux_12_0_instFlux                     ..... count               \n",
      "base_CircularApertureFlux_12_0_instFluxErr                  ..... count               \n",
      "base_CircularApertureFlux_17_0_instFlux                     ..... count               \n",
      "base_CircularApertureFlux_17_0_instFluxErr                  ..... count               \n",
      "base_CircularApertureFlux_25_0_instFlux                     ..... count               \n",
      "base_CircularApertureFlux_25_0_instFluxErr                  ..... count               \n",
      "base_CircularApertureFlux_35_0_instFlux                     ..... count               \n",
      "base_CircularApertureFlux_35_0_instFluxErr                  ..... count               \n",
      "base_CircularApertureFlux_50_0_instFlux                     ..... count               \n",
      "base_CircularApertureFlux_50_0_instFluxErr                  ..... count               \n",
      "base_CircularApertureFlux_70_0_instFlux                     ..... count               \n",
      "base_CircularApertureFlux_70_0_instFluxErr                  ..... count               \n",
      "base_GaussianFlux_instFlux                                  ..... count               \n",
      "base_GaussianFlux_instFluxErr                               ..... count               \n",
      "base_LocalBackground_instFlux                               ..... count               \n",
      "base_LocalBackground_instFluxErr                            ..... count               \n",
      "base_PsfFlux_instFlux                                       ..... count               \n",
      "base_PsfFlux_instFluxErr                                    ..... count               \n",
      "ext_photometryKron_KronFlux_instFlux                        ..... count               \n",
      "ext_photometryKron_KronFlux_instFluxErr                     ..... count               \n",
      "ext_convolved_ConvolvedFlux_0_3_3_instFlux                  ..... count               \n",
      "ext_convolved_ConvolvedFlux_0_3_3_instFluxErr               ..... count               \n",
      "ext_convolved_ConvolvedFlux_0_4_5_instFlux                  ..... count               \n",
      "ext_convolved_ConvolvedFlux_0_4_5_instFluxErr               ..... count               \n",
      "ext_convolved_ConvolvedFlux_0_6_0_instFlux                  ..... count               \n",
      "ext_convolved_ConvolvedFlux_0_6_0_instFluxErr               ..... count               \n",
      "ext_convolved_ConvolvedFlux_0_kron_instFlux                 ..... count               \n",
      "ext_convolved_ConvolvedFlux_0_kron_instFluxErr              ..... count               \n",
      "ext_convolved_ConvolvedFlux_1_3_3_instFlux                  ..... count               \n",
      "ext_convolved_ConvolvedFlux_1_3_3_instFluxErr               ..... count               \n",
      "ext_convolved_ConvolvedFlux_1_4_5_instFlux                  ..... count               \n",
      "ext_convolved_ConvolvedFlux_1_4_5_instFluxErr               ..... count               \n",
      "ext_convolved_ConvolvedFlux_1_6_0_instFlux                  ..... count               \n",
      "ext_convolved_ConvolvedFlux_1_6_0_instFluxErr               ..... count               \n",
      "ext_convolved_ConvolvedFlux_1_kron_instFlux                 ..... count               \n",
      "ext_convolved_ConvolvedFlux_1_kron_instFluxErr              ..... count               \n",
      "ext_convolved_ConvolvedFlux_2_3_3_instFlux                  ..... count               \n",
      "ext_convolved_ConvolvedFlux_2_3_3_instFluxErr               ..... count               \n",
      "ext_convolved_ConvolvedFlux_2_4_5_instFlux                  ..... count               \n",
      "ext_convolved_ConvolvedFlux_2_4_5_instFluxErr               ..... count               \n",
      "ext_convolved_ConvolvedFlux_2_6_0_instFlux                  ..... count               \n",
      "ext_convolved_ConvolvedFlux_2_6_0_instFluxErr               ..... count               \n",
      "ext_convolved_ConvolvedFlux_2_kron_instFlux                 ..... count               \n",
      "ext_convolved_ConvolvedFlux_2_kron_instFluxErr              ..... count               \n",
      "ext_convolved_ConvolvedFlux_3_3_3_instFlux                  ..... count               \n",
      "ext_convolved_ConvolvedFlux_3_3_3_instFluxErr               ..... count               \n",
      "ext_convolved_ConvolvedFlux_3_4_5_instFlux                  ..... count               \n",
      "ext_convolved_ConvolvedFlux_3_4_5_instFluxErr               ..... count               \n",
      "ext_convolved_ConvolvedFlux_3_6_0_instFlux                  ..... count               \n",
      "ext_convolved_ConvolvedFlux_3_6_0_instFluxErr               ..... count               \n",
      "ext_convolved_ConvolvedFlux_3_kron_instFlux                 ..... count               \n",
      "ext_convolved_ConvolvedFlux_3_kron_instFluxErr              ..... count               \n",
      "modelfit_CModel_initial_instFlux                            ..... count               \n",
      "modelfit_CModel_initial_instFluxErr                         ..... count               \n",
      "modelfit_CModel_initial_instFlux_inner                      ..... count               \n",
      "modelfit_CModel_exp_instFlux                                ..... count               \n",
      "modelfit_CModel_exp_instFluxErr                             ..... count               \n",
      "modelfit_CModel_exp_instFlux_inner                          ..... count               \n",
      "modelfit_CModel_dev_instFlux                                ..... count               \n",
      "modelfit_CModel_dev_instFluxErr                             ..... count               \n",
      "modelfit_CModel_dev_instFlux_inner                          ..... count               \n",
      "modelfit_CModel_instFlux                                    ..... count               \n",
      "modelfit_CModel_instFluxErr                                 ..... count               \n",
      "modelfit_CModel_instFlux_inner                              ..... count               \n",
      "undeblended_base_CircularApertureFlux_3_0_instFlux          ..... count               \n",
      "undeblended_base_CircularApertureFlux_3_0_instFluxErr       ..... count               \n",
      "undeblended_base_CircularApertureFlux_4_5_instFlux          ..... count               \n",
      "undeblended_base_CircularApertureFlux_4_5_instFluxErr       ..... count               \n",
      "undeblended_base_CircularApertureFlux_6_0_instFlux          ..... count               \n",
      "undeblended_base_CircularApertureFlux_6_0_instFluxErr       ..... count               \n",
      "undeblended_base_CircularApertureFlux_9_0_instFlux          ..... count               \n",
      "undeblended_base_CircularApertureFlux_9_0_instFluxErr       ..... count               \n",
      "undeblended_base_CircularApertureFlux_12_0_instFlux         ..... count               \n",
      "undeblended_base_CircularApertureFlux_12_0_instFluxErr      ..... count               \n",
      "undeblended_base_CircularApertureFlux_17_0_instFlux         ..... count               \n",
      "undeblended_base_CircularApertureFlux_17_0_instFluxErr      ..... count               \n",
      "undeblended_base_CircularApertureFlux_25_0_instFlux         ..... count               \n",
      "undeblended_base_CircularApertureFlux_25_0_instFluxErr      ..... count               \n",
      "undeblended_base_CircularApertureFlux_35_0_instFlux         ..... count               \n",
      "undeblended_base_CircularApertureFlux_35_0_instFluxErr      ..... count               \n",
      "undeblended_base_CircularApertureFlux_50_0_instFlux         ..... count               \n",
      "undeblended_base_CircularApertureFlux_50_0_instFluxErr      ..... count               \n",
      "undeblended_base_CircularApertureFlux_70_0_instFlux         ..... count               \n",
      "undeblended_base_CircularApertureFlux_70_0_instFluxErr      ..... count               \n",
      "undeblended_base_PsfFlux_instFlux                           ..... count               \n",
      "undeblended_base_PsfFlux_instFluxErr                        ..... count               \n",
      "undeblended_ext_photometryKron_KronFlux_instFlux            ..... count               \n",
      "undeblended_ext_photometryKron_KronFlux_instFluxErr         ..... count               \n",
      "undeblended_ext_convolved_ConvolvedFlux_0_3_3_instFlux      ..... count               \n",
      "undeblended_ext_convolved_ConvolvedFlux_0_3_3_instFluxErr   ..... count               \n",
      "undeblended_ext_convolved_ConvolvedFlux_0_4_5_instFlux      ..... count               \n",
      "undeblended_ext_convolved_ConvolvedFlux_0_4_5_instFluxErr   ..... count               \n",
      "undeblended_ext_convolved_ConvolvedFlux_0_6_0_instFlux      ..... count               \n",
      "undeblended_ext_convolved_ConvolvedFlux_0_6_0_instFluxErr   ..... count               \n",
      "undeblended_ext_convolved_ConvolvedFlux_0_kron_instFlux     ..... count               \n",
      "undeblended_ext_convolved_ConvolvedFlux_0_kron_instFluxErr  ..... count               \n",
      "undeblended_ext_convolved_ConvolvedFlux_1_3_3_instFlux      ..... count               \n",
      "undeblended_ext_convolved_ConvolvedFlux_1_3_3_instFluxErr   ..... count               \n",
      "undeblended_ext_convolved_ConvolvedFlux_1_4_5_instFlux      ..... count               \n",
      "undeblended_ext_convolved_ConvolvedFlux_1_4_5_instFluxErr   ..... count               \n",
      "undeblended_ext_convolved_ConvolvedFlux_1_6_0_instFlux      ..... count               \n",
      "undeblended_ext_convolved_ConvolvedFlux_1_6_0_instFluxErr   ..... count               \n",
      "undeblended_ext_convolved_ConvolvedFlux_1_kron_instFlux     ..... count               \n",
      "undeblended_ext_convolved_ConvolvedFlux_1_kron_instFluxErr  ..... count               \n",
      "undeblended_ext_convolved_ConvolvedFlux_2_3_3_instFlux      ..... count               \n",
      "undeblended_ext_convolved_ConvolvedFlux_2_3_3_instFluxErr   ..... count               \n",
      "undeblended_ext_convolved_ConvolvedFlux_2_4_5_instFlux      ..... count               \n",
      "undeblended_ext_convolved_ConvolvedFlux_2_4_5_instFluxErr   ..... count               \n",
      "undeblended_ext_convolved_ConvolvedFlux_2_6_0_instFlux      ..... count               \n",
      "undeblended_ext_convolved_ConvolvedFlux_2_6_0_instFluxErr   ..... count               \n",
      "undeblended_ext_convolved_ConvolvedFlux_2_kron_instFlux     ..... count               \n",
      "undeblended_ext_convolved_ConvolvedFlux_2_kron_instFluxErr  ..... count               \n",
      "undeblended_ext_convolved_ConvolvedFlux_3_3_3_instFlux      ..... count               \n",
      "undeblended_ext_convolved_ConvolvedFlux_3_3_3_instFluxErr   ..... count               \n",
      "undeblended_ext_convolved_ConvolvedFlux_3_4_5_instFlux      ..... count               \n",
      "undeblended_ext_convolved_ConvolvedFlux_3_4_5_instFluxErr   ..... count               \n",
      "undeblended_ext_convolved_ConvolvedFlux_3_6_0_instFlux      ..... count               \n",
      "undeblended_ext_convolved_ConvolvedFlux_3_6_0_instFluxErr   ..... count               \n",
      "undeblended_ext_convolved_ConvolvedFlux_3_kron_instFlux     ..... count               \n",
      "undeblended_ext_convolved_ConvolvedFlux_3_kron_instFluxErr  ..... count               \n"
     ]
    }
   ],
   "source": [
    "# Check the units on each entry:\n",
    "forced_src_flag = []\n",
    "for a in fsch:\n",
    "    nnn = a.getField().getName()\n",
    "    if 'instFlux' in nnn and 'flag' not in nnn:\n",
    "        flux_units = a.getField().getUnits()\n",
    "        forced_src_flag.append('count' in flux_units)\n",
    "        print(f'{nnn:60}..... {flux_units:20}')"
   ]
  },
  {
   "cell_type": "code",
   "execution_count": 14,
   "metadata": {},
   "outputs": [
    {
     "name": "stdout",
     "output_type": "stream",
     "text": [
      "All forced_src instFlux entries have units of counts:  True\n"
     ]
    }
   ],
   "source": [
    "assert(np.all(forced_src_flag)), 'FALSE: not all instFlux entries have units of counts.'\n",
    "print('All forced_src instFlux entries have units of counts: ',np.all(forced_src_flag))"
   ]
  }
 ],
 "metadata": {
  "kernelspec": {
   "display_name": "LSST",
   "language": "python",
   "name": "lsst"
  },
  "language_info": {
   "codemirror_mode": {
    "name": "ipython",
    "version": 3
   },
   "file_extension": ".py",
   "mimetype": "text/x-python",
   "name": "python",
   "nbconvert_exporter": "python",
   "pygments_lexer": "ipython3",
   "version": "3.7.6"
  }
 },
 "nbformat": 4,
 "nbformat_minor": 4
}
